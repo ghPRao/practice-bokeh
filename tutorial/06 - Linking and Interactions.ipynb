{
 "cells": [
  {
   "cell_type": "markdown",
   "metadata": {},
   "source": [
    "<table style=\"float:left; border:none\">\n",
    "   <tr style=\"border:none\">\n",
    "       <td style=\"border:none\">\n",
    "           <a href=\"https://bokeh.org/\">     \n",
    "           <img \n",
    "               src=\"assets/bokeh-transparent.png\" \n",
    "               style=\"width:50px\"\n",
    "           >\n",
    "           </a>    \n",
    "       </td>\n",
    "       <td style=\"border:none\">\n",
    "           <h1>Bokeh Tutorial</h1>\n",
    "       </td>\n",
    "   </tr>\n",
    "</table>\n",
    "\n",
    "<div style=\"float:right;\"><h2>06. Linking and Interactions</h2></div>"
   ]
  },
  {
   "cell_type": "code",
   "execution_count": 1,
   "metadata": {},
   "outputs": [
    {
     "data": {
      "text/html": [
       "\n",
       "    <div class=\"bk-root\">\n",
       "        <a href=\"https://bokeh.org\" target=\"_blank\" class=\"bk-logo bk-logo-small bk-logo-notebook\"></a>\n",
       "        <span id=\"1001\">Loading BokehJS ...</span>\n",
       "    </div>"
      ]
     },
     "metadata": {},
     "output_type": "display_data"
    },
    {
     "data": {
      "application/javascript": [
       "\n",
       "(function(root) {\n",
       "  function now() {\n",
       "    return new Date();\n",
       "  }\n",
       "\n",
       "  var force = true;\n",
       "\n",
       "  if (typeof root._bokeh_onload_callbacks === \"undefined\" || force === true) {\n",
       "    root._bokeh_onload_callbacks = [];\n",
       "    root._bokeh_is_loading = undefined;\n",
       "  }\n",
       "\n",
       "  var JS_MIME_TYPE = 'application/javascript';\n",
       "  var HTML_MIME_TYPE = 'text/html';\n",
       "  var EXEC_MIME_TYPE = 'application/vnd.bokehjs_exec.v0+json';\n",
       "  var CLASS_NAME = 'output_bokeh rendered_html';\n",
       "\n",
       "  /**\n",
       "   * Render data to the DOM node\n",
       "   */\n",
       "  function render(props, node) {\n",
       "    var script = document.createElement(\"script\");\n",
       "    node.appendChild(script);\n",
       "  }\n",
       "\n",
       "  /**\n",
       "   * Handle when an output is cleared or removed\n",
       "   */\n",
       "  function handleClearOutput(event, handle) {\n",
       "    var cell = handle.cell;\n",
       "\n",
       "    var id = cell.output_area._bokeh_element_id;\n",
       "    var server_id = cell.output_area._bokeh_server_id;\n",
       "    // Clean up Bokeh references\n",
       "    if (id != null && id in Bokeh.index) {\n",
       "      Bokeh.index[id].model.document.clear();\n",
       "      delete Bokeh.index[id];\n",
       "    }\n",
       "\n",
       "    if (server_id !== undefined) {\n",
       "      // Clean up Bokeh references\n",
       "      var cmd = \"from bokeh.io.state import curstate; print(curstate().uuid_to_server['\" + server_id + \"'].get_sessions()[0].document.roots[0]._id)\";\n",
       "      cell.notebook.kernel.execute(cmd, {\n",
       "        iopub: {\n",
       "          output: function(msg) {\n",
       "            var id = msg.content.text.trim();\n",
       "            if (id in Bokeh.index) {\n",
       "              Bokeh.index[id].model.document.clear();\n",
       "              delete Bokeh.index[id];\n",
       "            }\n",
       "          }\n",
       "        }\n",
       "      });\n",
       "      // Destroy server and session\n",
       "      var cmd = \"import bokeh.io.notebook as ion; ion.destroy_server('\" + server_id + \"')\";\n",
       "      cell.notebook.kernel.execute(cmd);\n",
       "    }\n",
       "  }\n",
       "\n",
       "  /**\n",
       "   * Handle when a new output is added\n",
       "   */\n",
       "  function handleAddOutput(event, handle) {\n",
       "    var output_area = handle.output_area;\n",
       "    var output = handle.output;\n",
       "\n",
       "    // limit handleAddOutput to display_data with EXEC_MIME_TYPE content only\n",
       "    if ((output.output_type != \"display_data\") || (!output.data.hasOwnProperty(EXEC_MIME_TYPE))) {\n",
       "      return\n",
       "    }\n",
       "\n",
       "    var toinsert = output_area.element.find(\".\" + CLASS_NAME.split(' ')[0]);\n",
       "\n",
       "    if (output.metadata[EXEC_MIME_TYPE][\"id\"] !== undefined) {\n",
       "      toinsert[toinsert.length - 1].firstChild.textContent = output.data[JS_MIME_TYPE];\n",
       "      // store reference to embed id on output_area\n",
       "      output_area._bokeh_element_id = output.metadata[EXEC_MIME_TYPE][\"id\"];\n",
       "    }\n",
       "    if (output.metadata[EXEC_MIME_TYPE][\"server_id\"] !== undefined) {\n",
       "      var bk_div = document.createElement(\"div\");\n",
       "      bk_div.innerHTML = output.data[HTML_MIME_TYPE];\n",
       "      var script_attrs = bk_div.children[0].attributes;\n",
       "      for (var i = 0; i < script_attrs.length; i++) {\n",
       "        toinsert[toinsert.length - 1].firstChild.setAttribute(script_attrs[i].name, script_attrs[i].value);\n",
       "        toinsert[toinsert.length - 1].firstChild.textContent = bk_div.children[0].textContent\n",
       "      }\n",
       "      // store reference to server id on output_area\n",
       "      output_area._bokeh_server_id = output.metadata[EXEC_MIME_TYPE][\"server_id\"];\n",
       "    }\n",
       "  }\n",
       "\n",
       "  function register_renderer(events, OutputArea) {\n",
       "\n",
       "    function append_mime(data, metadata, element) {\n",
       "      // create a DOM node to render to\n",
       "      var toinsert = this.create_output_subarea(\n",
       "        metadata,\n",
       "        CLASS_NAME,\n",
       "        EXEC_MIME_TYPE\n",
       "      );\n",
       "      this.keyboard_manager.register_events(toinsert);\n",
       "      // Render to node\n",
       "      var props = {data: data, metadata: metadata[EXEC_MIME_TYPE]};\n",
       "      render(props, toinsert[toinsert.length - 1]);\n",
       "      element.append(toinsert);\n",
       "      return toinsert\n",
       "    }\n",
       "\n",
       "    /* Handle when an output is cleared or removed */\n",
       "    events.on('clear_output.CodeCell', handleClearOutput);\n",
       "    events.on('delete.Cell', handleClearOutput);\n",
       "\n",
       "    /* Handle when a new output is added */\n",
       "    events.on('output_added.OutputArea', handleAddOutput);\n",
       "\n",
       "    /**\n",
       "     * Register the mime type and append_mime function with output_area\n",
       "     */\n",
       "    OutputArea.prototype.register_mime_type(EXEC_MIME_TYPE, append_mime, {\n",
       "      /* Is output safe? */\n",
       "      safe: true,\n",
       "      /* Index of renderer in `output_area.display_order` */\n",
       "      index: 0\n",
       "    });\n",
       "  }\n",
       "\n",
       "  // register the mime type if in Jupyter Notebook environment and previously unregistered\n",
       "  if (root.Jupyter !== undefined) {\n",
       "    var events = require('base/js/events');\n",
       "    var OutputArea = require('notebook/js/outputarea').OutputArea;\n",
       "\n",
       "    if (OutputArea.prototype.mime_types().indexOf(EXEC_MIME_TYPE) == -1) {\n",
       "      register_renderer(events, OutputArea);\n",
       "    }\n",
       "  }\n",
       "\n",
       "  \n",
       "  if (typeof (root._bokeh_timeout) === \"undefined\" || force === true) {\n",
       "    root._bokeh_timeout = Date.now() + 5000;\n",
       "    root._bokeh_failed_load = false;\n",
       "  }\n",
       "\n",
       "  var NB_LOAD_WARNING = {'data': {'text/html':\n",
       "     \"<div style='background-color: #fdd'>\\n\"+\n",
       "     \"<p>\\n\"+\n",
       "     \"BokehJS does not appear to have successfully loaded. If loading BokehJS from CDN, this \\n\"+\n",
       "     \"may be due to a slow or bad network connection. Possible fixes:\\n\"+\n",
       "     \"</p>\\n\"+\n",
       "     \"<ul>\\n\"+\n",
       "     \"<li>re-rerun `output_notebook()` to attempt to load from CDN again, or</li>\\n\"+\n",
       "     \"<li>use INLINE resources instead, as so:</li>\\n\"+\n",
       "     \"</ul>\\n\"+\n",
       "     \"<code>\\n\"+\n",
       "     \"from bokeh.resources import INLINE\\n\"+\n",
       "     \"output_notebook(resources=INLINE)\\n\"+\n",
       "     \"</code>\\n\"+\n",
       "     \"</div>\"}};\n",
       "\n",
       "  function display_loaded() {\n",
       "    var el = document.getElementById(\"1001\");\n",
       "    if (el != null) {\n",
       "      el.textContent = \"BokehJS is loading...\";\n",
       "    }\n",
       "    if (root.Bokeh !== undefined) {\n",
       "      if (el != null) {\n",
       "        el.textContent = \"BokehJS \" + root.Bokeh.version + \" successfully loaded.\";\n",
       "      }\n",
       "    } else if (Date.now() < root._bokeh_timeout) {\n",
       "      setTimeout(display_loaded, 100)\n",
       "    }\n",
       "  }\n",
       "\n",
       "\n",
       "  function run_callbacks() {\n",
       "    try {\n",
       "      root._bokeh_onload_callbacks.forEach(function(callback) {\n",
       "        if (callback != null)\n",
       "          callback();\n",
       "      });\n",
       "    } finally {\n",
       "      delete root._bokeh_onload_callbacks\n",
       "    }\n",
       "    console.debug(\"Bokeh: all callbacks have finished\");\n",
       "  }\n",
       "\n",
       "  function load_libs(css_urls, js_urls, callback) {\n",
       "    if (css_urls == null) css_urls = [];\n",
       "    if (js_urls == null) js_urls = [];\n",
       "\n",
       "    root._bokeh_onload_callbacks.push(callback);\n",
       "    if (root._bokeh_is_loading > 0) {\n",
       "      console.debug(\"Bokeh: BokehJS is being loaded, scheduling callback at\", now());\n",
       "      return null;\n",
       "    }\n",
       "    if (js_urls == null || js_urls.length === 0) {\n",
       "      run_callbacks();\n",
       "      return null;\n",
       "    }\n",
       "    console.debug(\"Bokeh: BokehJS not loaded, scheduling load and callback at\", now());\n",
       "    root._bokeh_is_loading = css_urls.length + js_urls.length;\n",
       "\n",
       "    function on_load() {\n",
       "      root._bokeh_is_loading--;\n",
       "      if (root._bokeh_is_loading === 0) {\n",
       "        console.debug(\"Bokeh: all BokehJS libraries/stylesheets loaded\");\n",
       "        run_callbacks()\n",
       "      }\n",
       "    }\n",
       "\n",
       "    function on_error() {\n",
       "      console.error(\"failed to load \" + url);\n",
       "    }\n",
       "\n",
       "    for (var i = 0; i < css_urls.length; i++) {\n",
       "      var url = css_urls[i];\n",
       "      const element = document.createElement(\"link\");\n",
       "      element.onload = on_load;\n",
       "      element.onerror = on_error;\n",
       "      element.rel = \"stylesheet\";\n",
       "      element.type = \"text/css\";\n",
       "      element.href = url;\n",
       "      console.debug(\"Bokeh: injecting link tag for BokehJS stylesheet: \", url);\n",
       "      document.body.appendChild(element);\n",
       "    }\n",
       "\n",
       "    for (var i = 0; i < js_urls.length; i++) {\n",
       "      var url = js_urls[i];\n",
       "      var element = document.createElement('script');\n",
       "      element.onload = on_load;\n",
       "      element.onerror = on_error;\n",
       "      element.async = false;\n",
       "      element.src = url;\n",
       "      \n",
       "      console.debug(\"Bokeh: injecting script tag for BokehJS library: \", url);\n",
       "      document.head.appendChild(element);\n",
       "    }\n",
       "  };var element = document.getElementById(\"1001\");\n",
       "  if (element == null) {\n",
       "    console.error(\"Bokeh: ERROR: autoload.js configured with elementid '1001' but no matching script tag was found. \")\n",
       "    return false;\n",
       "  }\n",
       "\n",
       "  function inject_raw_css(css) {\n",
       "    const element = document.createElement(\"style\");\n",
       "    element.appendChild(document.createTextNode(css));\n",
       "    document.body.appendChild(element);\n",
       "  }\n",
       "\n",
       "  \n",
       "  var js_urls = [\"https://cdn.bokeh.org/bokeh/release/bokeh-2.0.0.min.js\", \"https://cdn.bokeh.org/bokeh/release/bokeh-widgets-2.0.0.min.js\", \"https://cdn.bokeh.org/bokeh/release/bokeh-tables-2.0.0.min.js\", \"https://cdn.bokeh.org/bokeh/release/bokeh-gl-2.0.0.min.js\"];\n",
       "  var css_urls = [];\n",
       "  \n",
       "\n",
       "  var inline_js = [\n",
       "    function(Bokeh) {\n",
       "      Bokeh.set_log_level(\"info\");\n",
       "    },\n",
       "    function(Bokeh) {\n",
       "    \n",
       "    \n",
       "    }\n",
       "  ];\n",
       "\n",
       "  function run_inline_js() {\n",
       "    \n",
       "    if (root.Bokeh !== undefined || force === true) {\n",
       "      \n",
       "    for (var i = 0; i < inline_js.length; i++) {\n",
       "      inline_js[i].call(root, root.Bokeh);\n",
       "    }\n",
       "    if (force === true) {\n",
       "        display_loaded();\n",
       "      }} else if (Date.now() < root._bokeh_timeout) {\n",
       "      setTimeout(run_inline_js, 100);\n",
       "    } else if (!root._bokeh_failed_load) {\n",
       "      console.log(\"Bokeh: BokehJS failed to load within specified timeout.\");\n",
       "      root._bokeh_failed_load = true;\n",
       "    } else if (force !== true) {\n",
       "      var cell = $(document.getElementById(\"1001\")).parents('.cell').data().cell;\n",
       "      cell.output_area.append_execute_result(NB_LOAD_WARNING)\n",
       "    }\n",
       "\n",
       "  }\n",
       "\n",
       "  if (root._bokeh_is_loading === 0) {\n",
       "    console.debug(\"Bokeh: BokehJS loaded, going straight to plotting\");\n",
       "    run_inline_js();\n",
       "  } else {\n",
       "    load_libs(css_urls, js_urls, function() {\n",
       "      console.debug(\"Bokeh: BokehJS plotting callback run at\", now());\n",
       "      run_inline_js();\n",
       "    });\n",
       "  }\n",
       "}(window));"
      ],
      "application/vnd.bokehjs_load.v0+json": "\n(function(root) {\n  function now() {\n    return new Date();\n  }\n\n  var force = true;\n\n  if (typeof root._bokeh_onload_callbacks === \"undefined\" || force === true) {\n    root._bokeh_onload_callbacks = [];\n    root._bokeh_is_loading = undefined;\n  }\n\n  \n\n  \n  if (typeof (root._bokeh_timeout) === \"undefined\" || force === true) {\n    root._bokeh_timeout = Date.now() + 5000;\n    root._bokeh_failed_load = false;\n  }\n\n  var NB_LOAD_WARNING = {'data': {'text/html':\n     \"<div style='background-color: #fdd'>\\n\"+\n     \"<p>\\n\"+\n     \"BokehJS does not appear to have successfully loaded. If loading BokehJS from CDN, this \\n\"+\n     \"may be due to a slow or bad network connection. Possible fixes:\\n\"+\n     \"</p>\\n\"+\n     \"<ul>\\n\"+\n     \"<li>re-rerun `output_notebook()` to attempt to load from CDN again, or</li>\\n\"+\n     \"<li>use INLINE resources instead, as so:</li>\\n\"+\n     \"</ul>\\n\"+\n     \"<code>\\n\"+\n     \"from bokeh.resources import INLINE\\n\"+\n     \"output_notebook(resources=INLINE)\\n\"+\n     \"</code>\\n\"+\n     \"</div>\"}};\n\n  function display_loaded() {\n    var el = document.getElementById(\"1001\");\n    if (el != null) {\n      el.textContent = \"BokehJS is loading...\";\n    }\n    if (root.Bokeh !== undefined) {\n      if (el != null) {\n        el.textContent = \"BokehJS \" + root.Bokeh.version + \" successfully loaded.\";\n      }\n    } else if (Date.now() < root._bokeh_timeout) {\n      setTimeout(display_loaded, 100)\n    }\n  }\n\n\n  function run_callbacks() {\n    try {\n      root._bokeh_onload_callbacks.forEach(function(callback) {\n        if (callback != null)\n          callback();\n      });\n    } finally {\n      delete root._bokeh_onload_callbacks\n    }\n    console.debug(\"Bokeh: all callbacks have finished\");\n  }\n\n  function load_libs(css_urls, js_urls, callback) {\n    if (css_urls == null) css_urls = [];\n    if (js_urls == null) js_urls = [];\n\n    root._bokeh_onload_callbacks.push(callback);\n    if (root._bokeh_is_loading > 0) {\n      console.debug(\"Bokeh: BokehJS is being loaded, scheduling callback at\", now());\n      return null;\n    }\n    if (js_urls == null || js_urls.length === 0) {\n      run_callbacks();\n      return null;\n    }\n    console.debug(\"Bokeh: BokehJS not loaded, scheduling load and callback at\", now());\n    root._bokeh_is_loading = css_urls.length + js_urls.length;\n\n    function on_load() {\n      root._bokeh_is_loading--;\n      if (root._bokeh_is_loading === 0) {\n        console.debug(\"Bokeh: all BokehJS libraries/stylesheets loaded\");\n        run_callbacks()\n      }\n    }\n\n    function on_error() {\n      console.error(\"failed to load \" + url);\n    }\n\n    for (var i = 0; i < css_urls.length; i++) {\n      var url = css_urls[i];\n      const element = document.createElement(\"link\");\n      element.onload = on_load;\n      element.onerror = on_error;\n      element.rel = \"stylesheet\";\n      element.type = \"text/css\";\n      element.href = url;\n      console.debug(\"Bokeh: injecting link tag for BokehJS stylesheet: \", url);\n      document.body.appendChild(element);\n    }\n\n    for (var i = 0; i < js_urls.length; i++) {\n      var url = js_urls[i];\n      var element = document.createElement('script');\n      element.onload = on_load;\n      element.onerror = on_error;\n      element.async = false;\n      element.src = url;\n      \n      console.debug(\"Bokeh: injecting script tag for BokehJS library: \", url);\n      document.head.appendChild(element);\n    }\n  };var element = document.getElementById(\"1001\");\n  if (element == null) {\n    console.error(\"Bokeh: ERROR: autoload.js configured with elementid '1001' but no matching script tag was found. \")\n    return false;\n  }\n\n  function inject_raw_css(css) {\n    const element = document.createElement(\"style\");\n    element.appendChild(document.createTextNode(css));\n    document.body.appendChild(element);\n  }\n\n  \n  var js_urls = [\"https://cdn.bokeh.org/bokeh/release/bokeh-2.0.0.min.js\", \"https://cdn.bokeh.org/bokeh/release/bokeh-widgets-2.0.0.min.js\", \"https://cdn.bokeh.org/bokeh/release/bokeh-tables-2.0.0.min.js\", \"https://cdn.bokeh.org/bokeh/release/bokeh-gl-2.0.0.min.js\"];\n  var css_urls = [];\n  \n\n  var inline_js = [\n    function(Bokeh) {\n      Bokeh.set_log_level(\"info\");\n    },\n    function(Bokeh) {\n    \n    \n    }\n  ];\n\n  function run_inline_js() {\n    \n    if (root.Bokeh !== undefined || force === true) {\n      \n    for (var i = 0; i < inline_js.length; i++) {\n      inline_js[i].call(root, root.Bokeh);\n    }\n    if (force === true) {\n        display_loaded();\n      }} else if (Date.now() < root._bokeh_timeout) {\n      setTimeout(run_inline_js, 100);\n    } else if (!root._bokeh_failed_load) {\n      console.log(\"Bokeh: BokehJS failed to load within specified timeout.\");\n      root._bokeh_failed_load = true;\n    } else if (force !== true) {\n      var cell = $(document.getElementById(\"1001\")).parents('.cell').data().cell;\n      cell.output_area.append_execute_result(NB_LOAD_WARNING)\n    }\n\n  }\n\n  if (root._bokeh_is_loading === 0) {\n    console.debug(\"Bokeh: BokehJS loaded, going straight to plotting\");\n    run_inline_js();\n  } else {\n    load_libs(css_urls, js_urls, function() {\n      console.debug(\"Bokeh: BokehJS plotting callback run at\", now());\n      run_inline_js();\n    });\n  }\n}(window));"
     },
     "metadata": {},
     "output_type": "display_data"
    }
   ],
   "source": [
    "from bokeh.io import output_notebook, show\n",
    "from bokeh.plotting import figure\n",
    "output_notebook()"
   ]
  },
  {
   "cell_type": "markdown",
   "metadata": {},
   "source": [
    "Now that we know from the previous chapter how multiple plots can be placed together in a layout, we can start to look at how different plots can be linked together, or how plots can be linked to widgets. "
   ]
  },
  {
   "cell_type": "markdown",
   "metadata": {},
   "source": [
    "# Linked Interactions\n",
    "\n",
    "It is possible to link various interactions between different Bokeh plots. For instance, the ranges of two (or more) plots can be linked, so that when one of the plots is panned (or zoomed, or otherwise has its range changed) the other plots will update in unison. It is also possible to link selections between two plots, so that when items are selected on one plot, the corresponding items on the second plot also become selected. "
   ]
  },
  {
   "cell_type": "markdown",
   "metadata": {},
   "source": [
    "## Linked panning\n",
    "\n",
    "Linked panning (when multiple plots have ranges that stay in sync) is simple to spell with Bokeh. You simply share the appropriate range objects between two (or more) plots. The example below shows how to accomplish this by linking the ranges of three plots in various ways:"
   ]
  },
  {
   "cell_type": "code",
   "execution_count": 2,
   "metadata": {},
   "outputs": [
    {
     "data": {
      "text/html": [
       "\n",
       "\n",
       "\n",
       "\n",
       "\n",
       "\n",
       "  <div class=\"bk-root\" id=\"e41a75da-42d9-47f5-969f-e8c786aa8291\" data-root-id=\"1110\"></div>\n"
      ]
     },
     "metadata": {},
     "output_type": "display_data"
    },
    {
     "data": {
      "application/javascript": [
       "(function(root) {\n",
       "  function embed_document(root) {\n",
       "    \n",
       "  var docs_json = {\"7e369078-2ae0-435d-ab04-af938d6729f5\":{\"roots\":{\"references\":[{\"attributes\":{\"children\":[{\"id\":\"1109\"},{\"id\":\"1107\"}]},\"id\":\"1110\",\"type\":\"Column\"},{\"attributes\":{},\"id\":\"1041\",\"type\":\"BasicTicker\"},{\"attributes\":{\"formatter\":{\"id\":\"1084\"},\"ticker\":{\"id\":\"1012\"}},\"id\":\"1011\",\"type\":\"LinearAxis\"},{\"attributes\":{\"axis\":{\"id\":\"1040\"},\"dimension\":1,\"ticker\":null},\"id\":\"1043\",\"type\":\"Grid\"},{\"attributes\":{},\"id\":\"1003\",\"type\":\"DataRange1d\"},{\"attributes\":{\"fill_alpha\":{\"value\":0.1},\"fill_color\":{\"value\":\"firebrick\"},\"line_alpha\":{\"value\":0.1},\"line_color\":{\"value\":\"firebrick\"},\"size\":{\"units\":\"screen\",\"value\":10},\"x\":{\"field\":\"x\"},\"y\":{\"field\":\"y\"}},\"id\":\"1051\",\"type\":\"Triangle\"},{\"attributes\":{\"data\":{\"x\":[0,1,2,3,4,5,6,7,8,9,10],\"y\":[0,1,2,3,4,5,6,7,8,9,10]},\"selected\":{\"id\":\"1087\"},\"selection_policy\":{\"id\":\"1086\"}},\"id\":\"1024\",\"type\":\"ColumnDataSource\"},{\"attributes\":{\"below\":[{\"id\":\"1062\"}],\"center\":[{\"id\":\"1065\"},{\"id\":\"1069\"}],\"left\":[{\"id\":\"1066\"}],\"plot_height\":250,\"plot_width\":250,\"renderers\":[{\"id\":\"1078\"}],\"title\":{\"id\":\"1098\"},\"toolbar\":{\"id\":\"1072\"},\"toolbar_location\":null,\"x_range\":{\"id\":\"1003\"},\"x_scale\":{\"id\":\"1058\"},\"y_range\":{\"id\":\"1056\"},\"y_scale\":{\"id\":\"1060\"}},\"id\":\"1054\",\"subtype\":\"Figure\",\"type\":\"Plot\"},{\"attributes\":{},\"id\":\"1005\",\"type\":\"DataRange1d\"},{\"attributes\":{},\"id\":\"1045\",\"type\":\"WheelZoomTool\"},{\"attributes\":{\"toolbars\":[{\"id\":\"1021\"},{\"id\":\"1046\"},{\"id\":\"1072\"}],\"tools\":[{\"id\":\"1019\"},{\"id\":\"1020\"},{\"id\":\"1044\"},{\"id\":\"1045\"},{\"id\":\"1070\"},{\"id\":\"1071\"}]},\"id\":\"1108\",\"type\":\"ProxyToolbar\"},{\"attributes\":{},\"id\":\"1007\",\"type\":\"LinearScale\"},{\"attributes\":{\"active_drag\":\"auto\",\"active_inspect\":\"auto\",\"active_multi\":null,\"active_scroll\":\"auto\",\"active_tap\":\"auto\",\"tools\":[{\"id\":\"1044\"},{\"id\":\"1045\"}]},\"id\":\"1046\",\"type\":\"Toolbar\"},{\"attributes\":{},\"id\":\"1009\",\"type\":\"LinearScale\"},{\"attributes\":{},\"id\":\"1082\",\"type\":\"BasicTickFormatter\"},{\"attributes\":{},\"id\":\"1095\",\"type\":\"UnionRenderers\"},{\"attributes\":{\"fill_color\":{\"value\":\"olive\"},\"line_color\":{\"value\":\"olive\"},\"size\":{\"units\":\"screen\",\"value\":10},\"x\":{\"field\":\"x\"},\"y\":{\"field\":\"y\"}},\"id\":\"1076\",\"type\":\"Square\"},{\"attributes\":{},\"id\":\"1102\",\"type\":\"BasicTickFormatter\"},{\"attributes\":{},\"id\":\"1012\",\"type\":\"BasicTicker\"},{\"attributes\":{\"source\":{\"id\":\"1049\"}},\"id\":\"1053\",\"type\":\"CDSView\"},{\"attributes\":{\"axis\":{\"id\":\"1011\"},\"ticker\":null},\"id\":\"1014\",\"type\":\"Grid\"},{\"attributes\":{},\"id\":\"1056\",\"type\":\"DataRange1d\"},{\"attributes\":{},\"id\":\"1096\",\"type\":\"Selection\"},{\"attributes\":{\"data_source\":{\"id\":\"1049\"},\"glyph\":{\"id\":\"1050\"},\"hover_glyph\":null,\"muted_glyph\":null,\"nonselection_glyph\":{\"id\":\"1051\"},\"selection_glyph\":null,\"view\":{\"id\":\"1053\"}},\"id\":\"1052\",\"type\":\"GlyphRenderer\"},{\"attributes\":{\"data\":{\"x\":[0,1,2,3,4,5,6,7,8,9,10],\"y\":[5,4,3,2,1,0,1,2,3,4,5]},\"selected\":{\"id\":\"1105\"},\"selection_policy\":{\"id\":\"1104\"}},\"id\":\"1075\",\"type\":\"ColumnDataSource\"},{\"attributes\":{\"formatter\":{\"id\":\"1082\"},\"ticker\":{\"id\":\"1016\"}},\"id\":\"1015\",\"type\":\"LinearAxis\"},{\"attributes\":{\"formatter\":{\"id\":\"1102\"},\"ticker\":{\"id\":\"1063\"}},\"id\":\"1062\",\"type\":\"LinearAxis\"},{\"attributes\":{},\"id\":\"1060\",\"type\":\"LinearScale\"},{\"attributes\":{\"text\":\"\"},\"id\":\"1089\",\"type\":\"Title\"},{\"attributes\":{},\"id\":\"1058\",\"type\":\"LinearScale\"},{\"attributes\":{},\"id\":\"1019\",\"type\":\"PanTool\"},{\"attributes\":{},\"id\":\"1070\",\"type\":\"PanTool\"},{\"attributes\":{},\"id\":\"1016\",\"type\":\"BasicTicker\"},{\"attributes\":{},\"id\":\"1063\",\"type\":\"BasicTicker\"},{\"attributes\":{\"axis\":{\"id\":\"1015\"},\"dimension\":1,\"ticker\":null},\"id\":\"1018\",\"type\":\"Grid\"},{\"attributes\":{\"axis\":{\"id\":\"1062\"},\"ticker\":null},\"id\":\"1065\",\"type\":\"Grid\"},{\"attributes\":{},\"id\":\"1084\",\"type\":\"BasicTickFormatter\"},{\"attributes\":{\"fill_color\":{\"value\":\"navy\"},\"line_color\":{\"value\":\"navy\"},\"size\":{\"units\":\"screen\",\"value\":10},\"x\":{\"field\":\"x\"},\"y\":{\"field\":\"y\"}},\"id\":\"1025\",\"type\":\"Circle\"},{\"attributes\":{},\"id\":\"1091\",\"type\":\"BasicTickFormatter\"},{\"attributes\":{\"formatter\":{\"id\":\"1100\"},\"ticker\":{\"id\":\"1067\"}},\"id\":\"1066\",\"type\":\"LinearAxis\"},{\"attributes\":{},\"id\":\"1067\",\"type\":\"BasicTicker\"},{\"attributes\":{},\"id\":\"1020\",\"type\":\"WheelZoomTool\"},{\"attributes\":{\"axis\":{\"id\":\"1066\"},\"dimension\":1,\"ticker\":null},\"id\":\"1069\",\"type\":\"Grid\"},{\"attributes\":{\"source\":{\"id\":\"1024\"}},\"id\":\"1028\",\"type\":\"CDSView\"},{\"attributes\":{},\"id\":\"1104\",\"type\":\"UnionRenderers\"},{\"attributes\":{\"active_drag\":\"auto\",\"active_inspect\":\"auto\",\"active_multi\":null,\"active_scroll\":\"auto\",\"active_tap\":\"auto\",\"tools\":[{\"id\":\"1019\"},{\"id\":\"1020\"}]},\"id\":\"1021\",\"type\":\"Toolbar\"},{\"attributes\":{\"children\":[[{\"id\":\"1002\"},0,0],[{\"id\":\"1029\"},0,1],[{\"id\":\"1054\"},0,2]]},\"id\":\"1107\",\"type\":\"GridBox\"},{\"attributes\":{},\"id\":\"1105\",\"type\":\"Selection\"},{\"attributes\":{\"fill_color\":{\"value\":\"firebrick\"},\"line_color\":{\"value\":\"firebrick\"},\"size\":{\"units\":\"screen\",\"value\":10},\"x\":{\"field\":\"x\"},\"y\":{\"field\":\"y\"}},\"id\":\"1050\",\"type\":\"Triangle\"},{\"attributes\":{\"below\":[{\"id\":\"1036\"}],\"center\":[{\"id\":\"1039\"},{\"id\":\"1043\"}],\"left\":[{\"id\":\"1040\"}],\"plot_height\":250,\"plot_width\":250,\"renderers\":[{\"id\":\"1052\"}],\"title\":{\"id\":\"1089\"},\"toolbar\":{\"id\":\"1046\"},\"toolbar_location\":null,\"x_range\":{\"id\":\"1003\"},\"x_scale\":{\"id\":\"1032\"},\"y_range\":{\"id\":\"1005\"},\"y_scale\":{\"id\":\"1034\"}},\"id\":\"1029\",\"subtype\":\"Figure\",\"type\":\"Plot\"},{\"attributes\":{},\"id\":\"1071\",\"type\":\"WheelZoomTool\"},{\"attributes\":{\"fill_alpha\":{\"value\":0.1},\"fill_color\":{\"value\":\"navy\"},\"line_alpha\":{\"value\":0.1},\"line_color\":{\"value\":\"navy\"},\"size\":{\"units\":\"screen\",\"value\":10},\"x\":{\"field\":\"x\"},\"y\":{\"field\":\"y\"}},\"id\":\"1026\",\"type\":\"Circle\"},{\"attributes\":{\"source\":{\"id\":\"1075\"}},\"id\":\"1079\",\"type\":\"CDSView\"},{\"attributes\":{\"active_drag\":\"auto\",\"active_inspect\":\"auto\",\"active_multi\":null,\"active_scroll\":\"auto\",\"active_tap\":\"auto\",\"tools\":[{\"id\":\"1070\"},{\"id\":\"1071\"}]},\"id\":\"1072\",\"type\":\"Toolbar\"},{\"attributes\":{\"data\":{\"x\":[0,1,2,3,4,5,6,7,8,9,10],\"y\":[10,9,8,7,6,5,4,3,2,1,0]},\"selected\":{\"id\":\"1096\"},\"selection_policy\":{\"id\":\"1095\"}},\"id\":\"1049\",\"type\":\"ColumnDataSource\"},{\"attributes\":{\"data_source\":{\"id\":\"1024\"},\"glyph\":{\"id\":\"1025\"},\"hover_glyph\":null,\"muted_glyph\":null,\"nonselection_glyph\":{\"id\":\"1026\"},\"selection_glyph\":null,\"view\":{\"id\":\"1028\"}},\"id\":\"1027\",\"type\":\"GlyphRenderer\"},{\"attributes\":{\"text\":\"\"},\"id\":\"1098\",\"type\":\"Title\"},{\"attributes\":{\"fill_alpha\":{\"value\":0.1},\"fill_color\":{\"value\":\"olive\"},\"line_alpha\":{\"value\":0.1},\"line_color\":{\"value\":\"olive\"},\"size\":{\"units\":\"screen\",\"value\":10},\"x\":{\"field\":\"x\"},\"y\":{\"field\":\"y\"}},\"id\":\"1077\",\"type\":\"Square\"},{\"attributes\":{},\"id\":\"1032\",\"type\":\"LinearScale\"},{\"attributes\":{},\"id\":\"1037\",\"type\":\"BasicTicker\"},{\"attributes\":{},\"id\":\"1100\",\"type\":\"BasicTickFormatter\"},{\"attributes\":{\"data_source\":{\"id\":\"1075\"},\"glyph\":{\"id\":\"1076\"},\"hover_glyph\":null,\"muted_glyph\":null,\"nonselection_glyph\":{\"id\":\"1077\"},\"selection_glyph\":null,\"view\":{\"id\":\"1079\"}},\"id\":\"1078\",\"type\":\"GlyphRenderer\"},{\"attributes\":{\"axis\":{\"id\":\"1036\"},\"ticker\":null},\"id\":\"1039\",\"type\":\"Grid\"},{\"attributes\":{\"text\":\"\"},\"id\":\"1080\",\"type\":\"Title\"},{\"attributes\":{},\"id\":\"1093\",\"type\":\"BasicTickFormatter\"},{\"attributes\":{},\"id\":\"1034\",\"type\":\"LinearScale\"},{\"attributes\":{\"toolbar\":{\"id\":\"1108\"},\"toolbar_location\":\"above\"},\"id\":\"1109\",\"type\":\"ToolbarBox\"},{\"attributes\":{},\"id\":\"1086\",\"type\":\"UnionRenderers\"},{\"attributes\":{\"formatter\":{\"id\":\"1093\"},\"ticker\":{\"id\":\"1037\"}},\"id\":\"1036\",\"type\":\"LinearAxis\"},{\"attributes\":{},\"id\":\"1087\",\"type\":\"Selection\"},{\"attributes\":{},\"id\":\"1044\",\"type\":\"PanTool\"},{\"attributes\":{\"below\":[{\"id\":\"1011\"}],\"center\":[{\"id\":\"1014\"},{\"id\":\"1018\"}],\"left\":[{\"id\":\"1015\"}],\"plot_height\":250,\"plot_width\":250,\"renderers\":[{\"id\":\"1027\"}],\"title\":{\"id\":\"1080\"},\"toolbar\":{\"id\":\"1021\"},\"toolbar_location\":null,\"x_range\":{\"id\":\"1003\"},\"x_scale\":{\"id\":\"1007\"},\"y_range\":{\"id\":\"1005\"},\"y_scale\":{\"id\":\"1009\"}},\"id\":\"1002\",\"subtype\":\"Figure\",\"type\":\"Plot\"},{\"attributes\":{\"formatter\":{\"id\":\"1091\"},\"ticker\":{\"id\":\"1041\"}},\"id\":\"1040\",\"type\":\"LinearAxis\"}],\"root_ids\":[\"1110\"]},\"title\":\"Bokeh Application\",\"version\":\"2.0.0\"}};\n",
       "  var render_items = [{\"docid\":\"7e369078-2ae0-435d-ab04-af938d6729f5\",\"root_ids\":[\"1110\"],\"roots\":{\"1110\":\"e41a75da-42d9-47f5-969f-e8c786aa8291\"}}];\n",
       "  root.Bokeh.embed.embed_items_notebook(docs_json, render_items);\n",
       "\n",
       "  }\n",
       "  if (root.Bokeh !== undefined) {\n",
       "    embed_document(root);\n",
       "  } else {\n",
       "    var attempts = 0;\n",
       "    var timer = setInterval(function(root) {\n",
       "      if (root.Bokeh !== undefined) {\n",
       "        clearInterval(timer);\n",
       "        embed_document(root);\n",
       "      } else {\n",
       "        attempts++;\n",
       "        if (attempts > 100) {\n",
       "          clearInterval(timer);\n",
       "          console.log(\"Bokeh: ERROR: Unable to run BokehJS code because BokehJS library is missing\");\n",
       "        }\n",
       "      }\n",
       "    }, 10, root)\n",
       "  }\n",
       "})(window);"
      ],
      "application/vnd.bokehjs_exec.v0+json": ""
     },
     "metadata": {
      "application/vnd.bokehjs_exec.v0+json": {
       "id": "1110"
      }
     },
     "output_type": "display_data"
    }
   ],
   "source": [
    "from bokeh.layouts import gridplot\n",
    "\n",
    "x = list(range(11))\n",
    "y0, y1, y2 = x, [10-i for i in x], [abs(i-5) for i in x]\n",
    "\n",
    "plot_options = dict(width=250, plot_height=250, tools='pan,wheel_zoom')\n",
    "\n",
    "# create a new plot\n",
    "s1 = figure(**plot_options)\n",
    "s1.circle(x, y0, size=10, color=\"navy\")\n",
    "\n",
    "# create a new plot and share both ranges\n",
    "s2 = figure(x_range=s1.x_range, y_range=s1.y_range, **plot_options)\n",
    "s2.triangle(x, y1, size=10, color=\"firebrick\")\n",
    "\n",
    "# create a new plot and share only one range\n",
    "s3 = figure(x_range=s1.x_range, **plot_options)\n",
    "s3.square(x, y2, size=10, color=\"olive\")\n",
    "\n",
    "p = gridplot([[s1, s2, s3]])\n",
    "\n",
    "# show the results\n",
    "show(p)"
   ]
  },
  {
   "cell_type": "code",
   "execution_count": 3,
   "metadata": {},
   "outputs": [],
   "source": [
    "# EXERCISE: create two plots in a gridplot, and link their ranges\n"
   ]
  },
  {
   "cell_type": "markdown",
   "metadata": {},
   "source": [
    "## Linked brushing\n",
    "\n",
    "Linking selections is accomplished in a similar way, by sharing data sources between plots. Note that normally with ``bokeh.plotting`` and ``bokeh.charts`` creating a default data source for simple plots is handled automatically. However to share a data source, we must create them by hand and pass them explicitly. This is illustrated in the example below:"
   ]
  },
  {
   "cell_type": "code",
   "execution_count": 4,
   "metadata": {},
   "outputs": [
    {
     "data": {
      "text/html": [
       "\n",
       "\n",
       "\n",
       "\n",
       "\n",
       "\n",
       "  <div class=\"bk-root\" id=\"38e62755-657f-4eac-80c7-6aa000854abc\" data-root-id=\"1363\"></div>\n"
      ]
     },
     "metadata": {},
     "output_type": "display_data"
    },
    {
     "data": {
      "application/javascript": [
       "(function(root) {\n",
       "  function embed_document(root) {\n",
       "    \n",
       "  var docs_json = {\"8b072660-b94a-4e72-8ac2-ef25b7598c33\":{\"roots\":{\"references\":[{\"attributes\":{\"children\":[{\"id\":\"1362\"},{\"id\":\"1360\"}]},\"id\":\"1363\",\"type\":\"Column\"},{\"attributes\":{},\"id\":\"1310\",\"type\":\"DataRange1d\"},{\"attributes\":{},\"id\":\"1281\",\"type\":\"DataRange1d\"},{\"attributes\":{\"active_drag\":\"auto\",\"active_inspect\":\"auto\",\"active_multi\":null,\"active_scroll\":\"auto\",\"active_tap\":\"auto\",\"tools\":[{\"id\":\"1297\"},{\"id\":\"1298\"},{\"id\":\"1299\"}]},\"id\":\"1300\",\"type\":\"Toolbar\"},{\"attributes\":{\"formatter\":{\"id\":\"1353\"},\"ticker\":{\"id\":\"1319\"}},\"id\":\"1318\",\"type\":\"LinearAxis\"},{\"attributes\":{},\"id\":\"1328\",\"type\":\"HelpTool\"},{\"attributes\":{},\"id\":\"1340\",\"type\":\"BasicTickFormatter\"},{\"attributes\":{},\"id\":\"1353\",\"type\":\"BasicTickFormatter\"},{\"attributes\":{\"bottom_units\":\"screen\",\"fill_alpha\":0.5,\"fill_color\":\"lightgrey\",\"left_units\":\"screen\",\"level\":\"overlay\",\"line_alpha\":1.0,\"line_color\":\"black\",\"line_dash\":[4,4],\"line_width\":2,\"render_mode\":\"css\",\"right_units\":\"screen\",\"top_units\":\"screen\"},\"id\":\"1346\",\"type\":\"BoxAnnotation\"},{\"attributes\":{},\"id\":\"1290\",\"type\":\"BasicTicker\"},{\"attributes\":{\"toolbars\":[{\"id\":\"1300\"},{\"id\":\"1329\"}],\"tools\":[{\"id\":\"1297\"},{\"id\":\"1298\"},{\"id\":\"1299\"},{\"id\":\"1326\"},{\"id\":\"1327\"},{\"id\":\"1328\"}]},\"id\":\"1361\",\"type\":\"ProxyToolbar\"},{\"attributes\":{\"data\":{\"x\":[-20,-19,-18,-17,-16,-15,-14,-13,-12,-11,-10,-9,-8,-7,-6,-5,-4,-3,-2,-1,0,1,2,3,4,5,6,7,8,9,10,11,12,13,14,15,16,17,18,19,20],\"y0\":[20,19,18,17,16,15,14,13,12,11,10,9,8,7,6,5,4,3,2,1,0,1,2,3,4,5,6,7,8,9,10,11,12,13,14,15,16,17,18,19,20],\"y1\":[400,361,324,289,256,225,196,169,144,121,100,81,64,49,36,25,16,9,4,1,0,1,4,9,16,25,36,49,64,81,100,121,144,169,196,225,256,289,324,361,400]},\"selected\":{\"id\":\"1345\"},\"selection_policy\":{\"id\":\"1344\"}},\"id\":\"1279\",\"type\":\"ColumnDataSource\"},{\"attributes\":{\"data_source\":{\"id\":\"1279\"},\"glyph\":{\"id\":\"1305\"},\"hover_glyph\":null,\"muted_glyph\":null,\"nonselection_glyph\":{\"id\":\"1306\"},\"selection_glyph\":null,\"view\":{\"id\":\"1308\"}},\"id\":\"1307\",\"type\":\"GlyphRenderer\"},{\"attributes\":{\"fill_alpha\":0.5,\"fill_color\":\"lightgrey\",\"level\":\"overlay\",\"line_alpha\":1.0,\"line_color\":\"black\",\"line_dash\":[4,4],\"line_width\":2,\"xs_units\":\"screen\",\"ys_units\":\"screen\"},\"id\":\"1347\",\"type\":\"PolyAnnotation\"},{\"attributes\":{\"fill_color\":{\"value\":\"#1f77b4\"},\"line_color\":{\"value\":\"#1f77b4\"},\"x\":{\"field\":\"x\"},\"y\":{\"field\":\"y1\"}},\"id\":\"1334\",\"type\":\"Circle\"},{\"attributes\":{\"fill_alpha\":{\"value\":0.1},\"fill_color\":{\"value\":\"#1f77b4\"},\"line_alpha\":{\"value\":0.1},\"line_color\":{\"value\":\"#1f77b4\"},\"x\":{\"field\":\"x\"},\"y\":{\"field\":\"y0\"}},\"id\":\"1306\",\"type\":\"Circle\"},{\"attributes\":{},\"id\":\"1314\",\"type\":\"LinearScale\"},{\"attributes\":{\"axis\":{\"id\":\"1289\"},\"ticker\":null},\"id\":\"1292\",\"type\":\"Grid\"},{\"attributes\":{\"axis\":{\"id\":\"1318\"},\"ticker\":null},\"id\":\"1321\",\"type\":\"Grid\"},{\"attributes\":{},\"id\":\"1323\",\"type\":\"BasicTicker\"},{\"attributes\":{\"fill_color\":{\"value\":\"#1f77b4\"},\"line_color\":{\"value\":\"#1f77b4\"},\"x\":{\"field\":\"x\"},\"y\":{\"field\":\"y0\"}},\"id\":\"1305\",\"type\":\"Circle\"},{\"attributes\":{},\"id\":\"1312\",\"type\":\"DataRange1d\"},{\"attributes\":{},\"id\":\"1342\",\"type\":\"BasicTickFormatter\"},{\"attributes\":{},\"id\":\"1316\",\"type\":\"LinearScale\"},{\"attributes\":{},\"id\":\"1285\",\"type\":\"LinearScale\"},{\"attributes\":{\"formatter\":{\"id\":\"1351\"},\"ticker\":{\"id\":\"1323\"}},\"id\":\"1322\",\"type\":\"LinearAxis\"},{\"attributes\":{\"text\":\"\"},\"id\":\"1349\",\"type\":\"Title\"},{\"attributes\":{\"axis\":{\"id\":\"1322\"},\"dimension\":1,\"ticker\":null},\"id\":\"1325\",\"type\":\"Grid\"},{\"attributes\":{\"children\":[[{\"id\":\"1280\"},0,0],[{\"id\":\"1309\"},0,1]]},\"id\":\"1360\",\"type\":\"GridBox\"},{\"attributes\":{\"overlay\":{\"id\":\"1357\"}},\"id\":\"1326\",\"type\":\"BoxSelectTool\"},{\"attributes\":{\"below\":[{\"id\":\"1318\"}],\"center\":[{\"id\":\"1321\"},{\"id\":\"1325\"}],\"left\":[{\"id\":\"1322\"}],\"plot_height\":300,\"plot_width\":300,\"renderers\":[{\"id\":\"1336\"}],\"title\":{\"id\":\"1349\"},\"toolbar\":{\"id\":\"1329\"},\"toolbar_location\":null,\"x_range\":{\"id\":\"1310\"},\"x_scale\":{\"id\":\"1314\"},\"y_range\":{\"id\":\"1312\"},\"y_scale\":{\"id\":\"1316\"}},\"id\":\"1309\",\"subtype\":\"Figure\",\"type\":\"Plot\"},{\"attributes\":{\"overlay\":{\"id\":\"1358\"}},\"id\":\"1327\",\"type\":\"LassoSelectTool\"},{\"attributes\":{},\"id\":\"1283\",\"type\":\"DataRange1d\"},{\"attributes\":{},\"id\":\"1319\",\"type\":\"BasicTicker\"},{\"attributes\":{},\"id\":\"1287\",\"type\":\"LinearScale\"},{\"attributes\":{\"active_drag\":\"auto\",\"active_inspect\":\"auto\",\"active_multi\":null,\"active_scroll\":\"auto\",\"active_tap\":\"auto\",\"tools\":[{\"id\":\"1326\"},{\"id\":\"1327\"},{\"id\":\"1328\"}]},\"id\":\"1329\",\"type\":\"Toolbar\"},{\"attributes\":{\"fill_alpha\":{\"value\":0.1},\"fill_color\":{\"value\":\"#1f77b4\"},\"line_alpha\":{\"value\":0.1},\"line_color\":{\"value\":\"#1f77b4\"},\"x\":{\"field\":\"x\"},\"y\":{\"field\":\"y1\"}},\"id\":\"1335\",\"type\":\"Circle\"},{\"attributes\":{\"below\":[{\"id\":\"1289\"}],\"center\":[{\"id\":\"1292\"},{\"id\":\"1296\"}],\"left\":[{\"id\":\"1293\"}],\"plot_height\":300,\"plot_width\":300,\"renderers\":[{\"id\":\"1307\"}],\"title\":{\"id\":\"1338\"},\"toolbar\":{\"id\":\"1300\"},\"toolbar_location\":null,\"x_range\":{\"id\":\"1281\"},\"x_scale\":{\"id\":\"1285\"},\"y_range\":{\"id\":\"1283\"},\"y_scale\":{\"id\":\"1287\"}},\"id\":\"1280\",\"subtype\":\"Figure\",\"type\":\"Plot\"},{\"attributes\":{\"formatter\":{\"id\":\"1342\"},\"ticker\":{\"id\":\"1290\"}},\"id\":\"1289\",\"type\":\"LinearAxis\"},{\"attributes\":{},\"id\":\"1351\",\"type\":\"BasicTickFormatter\"},{\"attributes\":{\"axis\":{\"id\":\"1293\"},\"dimension\":1,\"ticker\":null},\"id\":\"1296\",\"type\":\"Grid\"},{\"attributes\":{\"text\":\"\"},\"id\":\"1338\",\"type\":\"Title\"},{\"attributes\":{\"bottom_units\":\"screen\",\"fill_alpha\":0.5,\"fill_color\":\"lightgrey\",\"left_units\":\"screen\",\"level\":\"overlay\",\"line_alpha\":1.0,\"line_color\":\"black\",\"line_dash\":[4,4],\"line_width\":2,\"render_mode\":\"css\",\"right_units\":\"screen\",\"top_units\":\"screen\"},\"id\":\"1357\",\"type\":\"BoxAnnotation\"},{\"attributes\":{},\"id\":\"1299\",\"type\":\"HelpTool\"},{\"attributes\":{\"data_source\":{\"id\":\"1279\"},\"glyph\":{\"id\":\"1334\"},\"hover_glyph\":null,\"muted_glyph\":null,\"nonselection_glyph\":{\"id\":\"1335\"},\"selection_glyph\":null,\"view\":{\"id\":\"1337\"}},\"id\":\"1336\",\"type\":\"GlyphRenderer\"},{\"attributes\":{},\"id\":\"1344\",\"type\":\"UnionRenderers\"},{\"attributes\":{\"source\":{\"id\":\"1279\"}},\"id\":\"1337\",\"type\":\"CDSView\"},{\"attributes\":{},\"id\":\"1345\",\"type\":\"Selection\"},{\"attributes\":{},\"id\":\"1294\",\"type\":\"BasicTicker\"},{\"attributes\":{\"formatter\":{\"id\":\"1340\"},\"ticker\":{\"id\":\"1294\"}},\"id\":\"1293\",\"type\":\"LinearAxis\"},{\"attributes\":{\"toolbar\":{\"id\":\"1361\"},\"toolbar_location\":\"above\"},\"id\":\"1362\",\"type\":\"ToolbarBox\"},{\"attributes\":{\"fill_alpha\":0.5,\"fill_color\":\"lightgrey\",\"level\":\"overlay\",\"line_alpha\":1.0,\"line_color\":\"black\",\"line_dash\":[4,4],\"line_width\":2,\"xs_units\":\"screen\",\"ys_units\":\"screen\"},\"id\":\"1358\",\"type\":\"PolyAnnotation\"},{\"attributes\":{\"overlay\":{\"id\":\"1346\"}},\"id\":\"1297\",\"type\":\"BoxSelectTool\"},{\"attributes\":{\"source\":{\"id\":\"1279\"}},\"id\":\"1308\",\"type\":\"CDSView\"},{\"attributes\":{\"overlay\":{\"id\":\"1347\"}},\"id\":\"1298\",\"type\":\"LassoSelectTool\"}],\"root_ids\":[\"1363\"]},\"title\":\"Bokeh Application\",\"version\":\"2.0.0\"}};\n",
       "  var render_items = [{\"docid\":\"8b072660-b94a-4e72-8ac2-ef25b7598c33\",\"root_ids\":[\"1363\"],\"roots\":{\"1363\":\"38e62755-657f-4eac-80c7-6aa000854abc\"}}];\n",
       "  root.Bokeh.embed.embed_items_notebook(docs_json, render_items);\n",
       "\n",
       "  }\n",
       "  if (root.Bokeh !== undefined) {\n",
       "    embed_document(root);\n",
       "  } else {\n",
       "    var attempts = 0;\n",
       "    var timer = setInterval(function(root) {\n",
       "      if (root.Bokeh !== undefined) {\n",
       "        clearInterval(timer);\n",
       "        embed_document(root);\n",
       "      } else {\n",
       "        attempts++;\n",
       "        if (attempts > 100) {\n",
       "          clearInterval(timer);\n",
       "          console.log(\"Bokeh: ERROR: Unable to run BokehJS code because BokehJS library is missing\");\n",
       "        }\n",
       "      }\n",
       "    }, 10, root)\n",
       "  }\n",
       "})(window);"
      ],
      "application/vnd.bokehjs_exec.v0+json": ""
     },
     "metadata": {
      "application/vnd.bokehjs_exec.v0+json": {
       "id": "1363"
      }
     },
     "output_type": "display_data"
    }
   ],
   "source": [
    "from bokeh.models import ColumnDataSource\n",
    "\n",
    "x = list(range(-20, 21))\n",
    "y0, y1 = [abs(xx) for xx in x], [xx**2 for xx in x]\n",
    "\n",
    "# create a column data source for the plots to share\n",
    "source = ColumnDataSource(data=dict(x=x, y0=y0, y1=y1))\n",
    "\n",
    "TOOLS = \"box_select,lasso_select,help\"\n",
    "\n",
    "# create a new plot and add a renderer\n",
    "left = figure(tools=TOOLS, width=300, height=300)\n",
    "left.circle('x', 'y0', source=source)\n",
    "\n",
    "# create another new plot and add a renderer\n",
    "right = figure(tools=TOOLS, width=300, height=300)\n",
    "right.circle('x', 'y1', source=source)\n",
    "\n",
    "p = gridplot([[left, right]])\n",
    "\n",
    "show(p)"
   ]
  },
  {
   "cell_type": "code",
   "execution_count": 5,
   "metadata": {},
   "outputs": [],
   "source": [
    "# EXERCISE: create two plots in a gridplot, and link their data sources\n",
    "\n"
   ]
  },
  {
   "cell_type": "markdown",
   "metadata": {},
   "source": [
    "# Hover Tools\n",
    "\n",
    "Bokeh has a Hover Tool that allows additional information to be displayed in a popup whenever the user hovers over a specific glyph. Basic hover tool configuration amounts to providing a list of ``(name, format)`` tuples. The full details can be found in the User's Guide [here](https://bokeh.pydata.org/en/latest/docs/user_guide/tools.html#hovertool).\n",
    "\n",
    "The example below shows some basic usage of the Hover tool with a circle glyph, using hover information defined in utils.py:"
   ]
  },
  {
   "cell_type": "code",
   "execution_count": 6,
   "metadata": {},
   "outputs": [
    {
     "data": {
      "text/html": [
       "\n",
       "\n",
       "\n",
       "\n",
       "\n",
       "\n",
       "  <div class=\"bk-root\" id=\"fbc1cd25-2ec9-4f2e-9cb4-7652e7530d97\" data-root-id=\"1518\"></div>\n"
      ]
     },
     "metadata": {},
     "output_type": "display_data"
    },
    {
     "data": {
      "application/javascript": [
       "(function(root) {\n",
       "  function embed_document(root) {\n",
       "    \n",
       "  var docs_json = {\"e40fdd56-8c1d-45d4-8b3d-09f2dd53deb7\":{\"roots\":{\"references\":[{\"attributes\":{\"below\":[{\"id\":\"1529\"}],\"center\":[{\"id\":\"1532\"},{\"id\":\"1536\"}],\"left\":[{\"id\":\"1533\"}],\"plot_height\":300,\"plot_width\":300,\"renderers\":[{\"id\":\"1542\"}],\"title\":{\"id\":\"1519\"},\"toolbar\":{\"id\":\"1537\"},\"x_range\":{\"id\":\"1521\"},\"x_scale\":{\"id\":\"1525\"},\"y_range\":{\"id\":\"1523\"},\"y_scale\":{\"id\":\"1527\"}},\"id\":\"1518\",\"subtype\":\"Figure\",\"type\":\"Plot\"},{\"attributes\":{},\"id\":\"1521\",\"type\":\"DataRange1d\"},{\"attributes\":{},\"id\":\"1589\",\"type\":\"BasicTickFormatter\"},{\"attributes\":{\"text\":\"Mouse over the dots\"},\"id\":\"1519\",\"type\":\"Title\"},{\"attributes\":{\"axis\":{\"id\":\"1529\"},\"ticker\":null},\"id\":\"1532\",\"type\":\"Grid\"},{\"attributes\":{},\"id\":\"1530\",\"type\":\"BasicTicker\"},{\"attributes\":{\"data_source\":{\"id\":\"1516\"},\"glyph\":{\"id\":\"1540\"},\"hover_glyph\":null,\"muted_glyph\":null,\"nonselection_glyph\":{\"id\":\"1541\"},\"selection_glyph\":null,\"view\":{\"id\":\"1543\"}},\"id\":\"1542\",\"type\":\"GlyphRenderer\"},{\"attributes\":{},\"id\":\"1591\",\"type\":\"UnionRenderers\"},{\"attributes\":{\"formatter\":{\"id\":\"1589\"},\"ticker\":{\"id\":\"1530\"}},\"id\":\"1529\",\"type\":\"LinearAxis\"},{\"attributes\":{},\"id\":\"1592\",\"type\":\"Selection\"},{\"attributes\":{},\"id\":\"1527\",\"type\":\"LinearScale\"},{\"attributes\":{},\"id\":\"1525\",\"type\":\"LinearScale\"},{\"attributes\":{\"fill_color\":{\"value\":\"#1f77b4\"},\"line_color\":{\"value\":\"#1f77b4\"},\"size\":{\"units\":\"screen\",\"value\":20},\"x\":{\"field\":\"x\"},\"y\":{\"field\":\"y\"}},\"id\":\"1540\",\"type\":\"Circle\"},{\"attributes\":{\"callback\":null,\"tooltips\":[[\"index\",\"$index\"],[\"(x,y)\",\"($x, $y)\"],[\"desc\",\"@desc\"]]},\"id\":\"1517\",\"type\":\"HoverTool\"},{\"attributes\":{\"active_drag\":\"auto\",\"active_inspect\":\"auto\",\"active_multi\":null,\"active_scroll\":\"auto\",\"active_tap\":\"auto\",\"tools\":[{\"id\":\"1517\"}]},\"id\":\"1537\",\"type\":\"Toolbar\"},{\"attributes\":{\"formatter\":{\"id\":\"1587\"},\"ticker\":{\"id\":\"1534\"}},\"id\":\"1533\",\"type\":\"LinearAxis\"},{\"attributes\":{\"axis\":{\"id\":\"1533\"},\"dimension\":1,\"ticker\":null},\"id\":\"1536\",\"type\":\"Grid\"},{\"attributes\":{},\"id\":\"1534\",\"type\":\"BasicTicker\"},{\"attributes\":{},\"id\":\"1523\",\"type\":\"DataRange1d\"},{\"attributes\":{\"data\":{\"desc\":[\"A\",\"b\",\"C\",\"d\",\"E\"],\"x\":[1,2,3,4,5],\"y\":[2,5,8,2,7]},\"selected\":{\"id\":\"1592\"},\"selection_policy\":{\"id\":\"1591\"}},\"id\":\"1516\",\"type\":\"ColumnDataSource\"},{\"attributes\":{},\"id\":\"1587\",\"type\":\"BasicTickFormatter\"},{\"attributes\":{\"fill_alpha\":{\"value\":0.1},\"fill_color\":{\"value\":\"#1f77b4\"},\"line_alpha\":{\"value\":0.1},\"line_color\":{\"value\":\"#1f77b4\"},\"size\":{\"units\":\"screen\",\"value\":20},\"x\":{\"field\":\"x\"},\"y\":{\"field\":\"y\"}},\"id\":\"1541\",\"type\":\"Circle\"},{\"attributes\":{\"source\":{\"id\":\"1516\"}},\"id\":\"1543\",\"type\":\"CDSView\"}],\"root_ids\":[\"1518\"]},\"title\":\"Bokeh Application\",\"version\":\"2.0.0\"}};\n",
       "  var render_items = [{\"docid\":\"e40fdd56-8c1d-45d4-8b3d-09f2dd53deb7\",\"root_ids\":[\"1518\"],\"roots\":{\"1518\":\"fbc1cd25-2ec9-4f2e-9cb4-7652e7530d97\"}}];\n",
       "  root.Bokeh.embed.embed_items_notebook(docs_json, render_items);\n",
       "\n",
       "  }\n",
       "  if (root.Bokeh !== undefined) {\n",
       "    embed_document(root);\n",
       "  } else {\n",
       "    var attempts = 0;\n",
       "    var timer = setInterval(function(root) {\n",
       "      if (root.Bokeh !== undefined) {\n",
       "        clearInterval(timer);\n",
       "        embed_document(root);\n",
       "      } else {\n",
       "        attempts++;\n",
       "        if (attempts > 100) {\n",
       "          clearInterval(timer);\n",
       "          console.log(\"Bokeh: ERROR: Unable to run BokehJS code because BokehJS library is missing\");\n",
       "        }\n",
       "      }\n",
       "    }, 10, root)\n",
       "  }\n",
       "})(window);"
      ],
      "application/vnd.bokehjs_exec.v0+json": ""
     },
     "metadata": {
      "application/vnd.bokehjs_exec.v0+json": {
       "id": "1518"
      }
     },
     "output_type": "display_data"
    }
   ],
   "source": [
    "from bokeh.models import HoverTool\n",
    "\n",
    "source = ColumnDataSource(\n",
    "        data=dict(\n",
    "            x=[1, 2, 3, 4, 5],\n",
    "            y=[2, 5, 8, 2, 7],\n",
    "            desc=['A', 'b', 'C', 'd', 'E'],\n",
    "        )\n",
    "    )\n",
    "\n",
    "hover = HoverTool(\n",
    "        tooltips=[\n",
    "            (\"index\", \"$index\"),\n",
    "            (\"(x,y)\", \"($x, $y)\"),\n",
    "            (\"desc\", \"@desc\"),\n",
    "        ]\n",
    "    )\n",
    "\n",
    "p = figure(plot_width=300, plot_height=300, tools=[hover], title=\"Mouse over the dots\")\n",
    "\n",
    "p.circle('x', 'y', size=20, source=source)\n",
    "\n",
    "show(p)"
   ]
  },
  {
   "cell_type": "markdown",
   "metadata": {},
   "source": [
    "# Widgets"
   ]
  },
  {
   "cell_type": "markdown",
   "metadata": {},
   "source": [
    "Bokeh supports direct integration with a small basic widget set. These can be used in conjunction with a Bokeh Server, or with ``CustomJS`` models to add more interactive capability to your documents. You can see a complete list, with example code in the [Adding Widgets](https://bokeh.pydata.org/en/latest/docs/user_guide/interaction.html#adding-widgets) section of the User's Guide. \n",
    "\n",
    "\n",
    "\n",
    "*NOTE: In this Tutorial chapter, we will focus on using widgets with JavaScript callbacks. The Tutorial chapter on Bokeh server applications covers using Bokeh widgets with real Python callbacks*\n",
    "\n",
    "\n",
    "\n",
    "\n",
    "To use the widgets, include them in a layout like you would a plot object:"
   ]
  },
  {
   "cell_type": "code",
   "execution_count": 7,
   "metadata": {},
   "outputs": [
    {
     "data": {
      "text/html": [
       "\n",
       "\n",
       "\n",
       "\n",
       "\n",
       "\n",
       "  <div class=\"bk-root\" id=\"6fd10aba-1ed3-4162-84d4-fed5d8922c88\" data-root-id=\"1635\"></div>\n"
      ]
     },
     "metadata": {},
     "output_type": "display_data"
    },
    {
     "data": {
      "application/javascript": [
       "(function(root) {\n",
       "  function embed_document(root) {\n",
       "    \n",
       "  var docs_json = {\"d5c29d3e-6c42-468b-95dd-e75930d44398\":{\"roots\":{\"references\":[{\"attributes\":{\"end\":10,\"format\":\"0[.]00\",\"start\":0,\"step\":0.1,\"title\":\"foo\",\"value\":1},\"id\":\"1635\",\"type\":\"Slider\"}],\"root_ids\":[\"1635\"]},\"title\":\"Bokeh Application\",\"version\":\"2.0.0\"}};\n",
       "  var render_items = [{\"docid\":\"d5c29d3e-6c42-468b-95dd-e75930d44398\",\"root_ids\":[\"1635\"],\"roots\":{\"1635\":\"6fd10aba-1ed3-4162-84d4-fed5d8922c88\"}}];\n",
       "  root.Bokeh.embed.embed_items_notebook(docs_json, render_items);\n",
       "\n",
       "  }\n",
       "  if (root.Bokeh !== undefined) {\n",
       "    embed_document(root);\n",
       "  } else {\n",
       "    var attempts = 0;\n",
       "    var timer = setInterval(function(root) {\n",
       "      if (root.Bokeh !== undefined) {\n",
       "        clearInterval(timer);\n",
       "        embed_document(root);\n",
       "      } else {\n",
       "        attempts++;\n",
       "        if (attempts > 100) {\n",
       "          clearInterval(timer);\n",
       "          console.log(\"Bokeh: ERROR: Unable to run BokehJS code because BokehJS library is missing\");\n",
       "        }\n",
       "      }\n",
       "    }, 10, root)\n",
       "  }\n",
       "})(window);"
      ],
      "application/vnd.bokehjs_exec.v0+json": ""
     },
     "metadata": {
      "application/vnd.bokehjs_exec.v0+json": {
       "id": "1635"
      }
     },
     "output_type": "display_data"
    }
   ],
   "source": [
    "from bokeh.models.widgets import Slider\n",
    "\n",
    "\n",
    "slider = Slider(start=0, end=10, value=1, step=.1, title=\"foo\")\n",
    "\n",
    "show(slider)"
   ]
  },
  {
   "cell_type": "code",
   "execution_count": 9,
   "metadata": {},
   "outputs": [],
   "source": [
    "# EXERCISE: create and show a Select widget \n"
   ]
  },
  {
   "cell_type": "markdown",
   "metadata": {},
   "source": [
    "# CustomJS Callbacks\n",
    "\n",
    "In order for a widget to be useful, it needs to be able to perform some action. Using the Bokeh server, it is possible to have widgets trigger real Python code. That possibility will be explored in the Bokeh server chapter of the tutorial. Here, we look at how widgets can be configured with `CustomJS` callbacks that execute snippets of JavaScript code. "
   ]
  },
  {
   "cell_type": "code",
   "execution_count": 10,
   "metadata": {},
   "outputs": [
    {
     "data": {
      "text/html": [
       "\n",
       "\n",
       "\n",
       "\n",
       "\n",
       "\n",
       "  <div class=\"bk-root\" id=\"c8fbae8a-ca18-40c6-b9de-bb3efb9eee1a\" data-root-id=\"1687\"></div>\n"
      ]
     },
     "metadata": {},
     "output_type": "display_data"
    },
    {
     "data": {
      "application/javascript": [
       "(function(root) {\n",
       "  function embed_document(root) {\n",
       "    \n",
       "  var docs_json = {\"43cbc08d-0b27-400b-80e4-a194e7f69239\":{\"roots\":{\"references\":[{\"attributes\":{\"below\":[{\"id\":\"1696\"}],\"center\":[{\"id\":\"1699\"},{\"id\":\"1703\"}],\"left\":[{\"id\":\"1700\"}],\"plot_height\":300,\"renderers\":[{\"id\":\"1709\"}],\"title\":{\"id\":\"1760\"},\"toolbar\":{\"id\":\"1704\"},\"x_range\":{\"id\":\"1688\"},\"x_scale\":{\"id\":\"1692\"},\"y_range\":{\"id\":\"1690\"},\"y_scale\":{\"id\":\"1694\"}},\"id\":\"1687\",\"subtype\":\"Figure\",\"type\":\"Plot\"},{\"attributes\":{},\"id\":\"1764\",\"type\":\"BasicTickFormatter\"},{\"attributes\":{\"formatter\":{\"id\":\"1762\"},\"ticker\":{\"id\":\"1701\"}},\"id\":\"1700\",\"type\":\"LinearAxis\"},{\"attributes\":{\"axis\":{\"id\":\"1696\"},\"ticker\":null},\"id\":\"1699\",\"type\":\"Grid\"},{\"attributes\":{},\"id\":\"1697\",\"type\":\"BasicTicker\"},{\"attributes\":{\"formatter\":{\"id\":\"1764\"},\"ticker\":{\"id\":\"1697\"}},\"id\":\"1696\",\"type\":\"LinearAxis\"},{\"attributes\":{\"code\":\"alert('you tapped a circle!')\"},\"id\":\"1685\",\"type\":\"CustomJS\"},{\"attributes\":{\"callback\":{\"id\":\"1685\"}},\"id\":\"1686\",\"type\":\"TapTool\"},{\"attributes\":{},\"id\":\"1762\",\"type\":\"BasicTickFormatter\"},{\"attributes\":{},\"id\":\"1694\",\"type\":\"LinearScale\"},{\"attributes\":{\"source\":{\"id\":\"1706\"}},\"id\":\"1710\",\"type\":\"CDSView\"},{\"attributes\":{},\"id\":\"1766\",\"type\":\"UnionRenderers\"},{\"attributes\":{},\"id\":\"1767\",\"type\":\"Selection\"},{\"attributes\":{\"axis\":{\"id\":\"1700\"},\"dimension\":1,\"ticker\":null},\"id\":\"1703\",\"type\":\"Grid\"},{\"attributes\":{},\"id\":\"1688\",\"type\":\"DataRange1d\"},{\"attributes\":{\"fill_alpha\":{\"value\":0.1},\"fill_color\":{\"value\":\"#1f77b4\"},\"line_alpha\":{\"value\":0.1},\"line_color\":{\"value\":\"#1f77b4\"},\"size\":{\"units\":\"screen\",\"value\":20},\"x\":{\"field\":\"x\"},\"y\":{\"field\":\"y\"}},\"id\":\"1708\",\"type\":\"Circle\"},{\"attributes\":{},\"id\":\"1690\",\"type\":\"DataRange1d\"},{\"attributes\":{\"data_source\":{\"id\":\"1706\"},\"glyph\":{\"id\":\"1707\"},\"hover_glyph\":null,\"muted_glyph\":null,\"nonselection_glyph\":{\"id\":\"1708\"},\"selection_glyph\":null,\"view\":{\"id\":\"1710\"}},\"id\":\"1709\",\"type\":\"GlyphRenderer\"},{\"attributes\":{\"fill_color\":{\"value\":\"#1f77b4\"},\"line_color\":{\"value\":\"#1f77b4\"},\"size\":{\"units\":\"screen\",\"value\":20},\"x\":{\"field\":\"x\"},\"y\":{\"field\":\"y\"}},\"id\":\"1707\",\"type\":\"Circle\"},{\"attributes\":{},\"id\":\"1692\",\"type\":\"LinearScale\"},{\"attributes\":{},\"id\":\"1701\",\"type\":\"BasicTicker\"},{\"attributes\":{\"text\":\"\"},\"id\":\"1760\",\"type\":\"Title\"},{\"attributes\":{\"data\":{\"x\":[1,2,3,4,5],\"y\":[2,5,8,2,7]},\"selected\":{\"id\":\"1767\"},\"selection_policy\":{\"id\":\"1766\"}},\"id\":\"1706\",\"type\":\"ColumnDataSource\"},{\"attributes\":{\"active_drag\":\"auto\",\"active_inspect\":\"auto\",\"active_multi\":null,\"active_scroll\":\"auto\",\"active_tap\":\"auto\",\"tools\":[{\"id\":\"1686\"}]},\"id\":\"1704\",\"type\":\"Toolbar\"}],\"root_ids\":[\"1687\"]},\"title\":\"Bokeh Application\",\"version\":\"2.0.0\"}};\n",
       "  var render_items = [{\"docid\":\"43cbc08d-0b27-400b-80e4-a194e7f69239\",\"root_ids\":[\"1687\"],\"roots\":{\"1687\":\"c8fbae8a-ca18-40c6-b9de-bb3efb9eee1a\"}}];\n",
       "  root.Bokeh.embed.embed_items_notebook(docs_json, render_items);\n",
       "\n",
       "  }\n",
       "  if (root.Bokeh !== undefined) {\n",
       "    embed_document(root);\n",
       "  } else {\n",
       "    var attempts = 0;\n",
       "    var timer = setInterval(function(root) {\n",
       "      if (root.Bokeh !== undefined) {\n",
       "        clearInterval(timer);\n",
       "        embed_document(root);\n",
       "      } else {\n",
       "        attempts++;\n",
       "        if (attempts > 100) {\n",
       "          clearInterval(timer);\n",
       "          console.log(\"Bokeh: ERROR: Unable to run BokehJS code because BokehJS library is missing\");\n",
       "        }\n",
       "      }\n",
       "    }, 10, root)\n",
       "  }\n",
       "})(window);"
      ],
      "application/vnd.bokehjs_exec.v0+json": ""
     },
     "metadata": {
      "application/vnd.bokehjs_exec.v0+json": {
       "id": "1687"
      }
     },
     "output_type": "display_data"
    }
   ],
   "source": [
    "from bokeh.models import TapTool, CustomJS, ColumnDataSource\n",
    "\n",
    "callback = CustomJS(code=\"alert('you tapped a circle!')\")\n",
    "tap = TapTool(callback=callback)\n",
    "\n",
    "p = figure(plot_width=600, plot_height=300, tools=[tap])\n",
    "\n",
    "p.circle(x=[1, 2, 3, 4, 5], y=[2, 5, 8, 2, 7], size=20)\n",
    "\n",
    "show(p)"
   ]
  },
  {
   "cell_type": "markdown",
   "metadata": {},
   "source": [
    "## CustomJS for Property changes\n",
    "\n",
    "Bokeh objects that have values associated can have small JavaScript actions attached to them using the `js_on_change` method. These actions (also referred to as \"callbacks\") are executed whenever the widget's value is changed. In order to make it easier to refer to specific Bokeh models (e.g., a data source, or a glyph) from JavaScript, the ``CustomJS`` object also accepts a dictionary of \"args\" that map names to Python Bokeh models. The corresponding JavaScript models are made available automatically to the ``CustomJS`` code:\n",
    "\n",
    "```python\n",
    "CustomJS(args=dict(source=source, slider=slider), code=\"\"\"\n",
    "    // easily refer to BokehJS source and slider objects in this JS code\n",
    "    var data = source.data;\n",
    "    var f = slider.value;\n",
    "\"\"\")\n",
    "```"
   ]
  },
  {
   "cell_type": "markdown",
   "metadata": {},
   "source": [
    "### Slider widget example\n",
    "\n",
    "The example below shows an action attached to a slider that updates a data source whenever the slider is moved.  "
   ]
  },
  {
   "cell_type": "code",
   "execution_count": 11,
   "metadata": {},
   "outputs": [
    {
     "data": {
      "text/html": [
       "\n",
       "\n",
       "\n",
       "\n",
       "\n",
       "\n",
       "  <div class=\"bk-root\" id=\"df8475c8-0522-457c-a2ec-7585e6f64c67\" data-root-id=\"1854\"></div>\n"
      ]
     },
     "metadata": {},
     "output_type": "display_data"
    },
    {
     "data": {
      "application/javascript": [
       "(function(root) {\n",
       "  function embed_document(root) {\n",
       "    \n",
       "  var docs_json = {\"ee3b5658-8b6e-4bdf-abf2-ac16e9e47534\":{\"roots\":{\"references\":[{\"attributes\":{\"children\":[{\"id\":\"1852\"},{\"id\":\"1817\"}]},\"id\":\"1854\",\"type\":\"Column\"},{\"attributes\":{},\"id\":\"1914\",\"type\":\"BasicTickFormatter\"},{\"attributes\":{\"axis\":{\"id\":\"1826\"},\"ticker\":null},\"id\":\"1829\",\"type\":\"Grid\"},{\"attributes\":{\"formatter\":{\"id\":\"1914\"},\"ticker\":{\"id\":\"1831\"}},\"id\":\"1830\",\"type\":\"LinearAxis\"},{\"attributes\":{},\"id\":\"1834\",\"type\":\"PanTool\"},{\"attributes\":{},\"id\":\"1831\",\"type\":\"BasicTicker\"},{\"attributes\":{\"axis\":{\"id\":\"1830\"},\"dimension\":1,\"ticker\":null},\"id\":\"1833\",\"type\":\"Grid\"},{\"attributes\":{\"bottom_units\":\"screen\",\"fill_alpha\":0.5,\"fill_color\":\"lightgrey\",\"left_units\":\"screen\",\"level\":\"overlay\",\"line_alpha\":1.0,\"line_color\":\"black\",\"line_dash\":[4,4],\"line_width\":2,\"render_mode\":\"css\",\"right_units\":\"screen\",\"top_units\":\"screen\"},\"id\":\"1920\",\"type\":\"BoxAnnotation\"},{\"attributes\":{\"active_drag\":\"auto\",\"active_inspect\":\"auto\",\"active_multi\":null,\"active_scroll\":\"auto\",\"active_tap\":\"auto\",\"tools\":[{\"id\":\"1834\"},{\"id\":\"1835\"},{\"id\":\"1836\"},{\"id\":\"1837\"},{\"id\":\"1838\"},{\"id\":\"1839\"}]},\"id\":\"1840\",\"type\":\"Toolbar\"},{\"attributes\":{},\"id\":\"1835\",\"type\":\"WheelZoomTool\"},{\"attributes\":{},\"id\":\"1839\",\"type\":\"HelpTool\"},{\"attributes\":{\"overlay\":{\"id\":\"1920\"}},\"id\":\"1836\",\"type\":\"BoxZoomTool\"},{\"attributes\":{},\"id\":\"1916\",\"type\":\"BasicTickFormatter\"},{\"attributes\":{},\"id\":\"1837\",\"type\":\"SaveTool\"},{\"attributes\":{},\"id\":\"1838\",\"type\":\"ResetTool\"},{\"attributes\":{\"line_alpha\":0.1,\"line_color\":\"#1f77b4\",\"line_width\":3,\"x\":{\"field\":\"x\"},\"y\":{\"field\":\"y\"}},\"id\":\"1849\",\"type\":\"Line\"},{\"attributes\":{\"line_alpha\":0.6,\"line_color\":\"#1f77b4\",\"line_width\":3,\"x\":{\"field\":\"x\"},\"y\":{\"field\":\"y\"}},\"id\":\"1848\",\"type\":\"Line\"},{\"attributes\":{},\"id\":\"1824\",\"type\":\"LinearScale\"},{\"attributes\":{\"end\":6,\"format\":\"0[.]00\",\"js_property_callbacks\":{\"change:value\":[{\"id\":\"1853\"}]},\"start\":0.1,\"step\":0.1,\"title\":\"power\",\"value\":1},\"id\":\"1852\",\"type\":\"Slider\"},{\"attributes\":{\"source\":{\"id\":\"1816\"}},\"id\":\"1851\",\"type\":\"CDSView\"},{\"attributes\":{\"args\":{\"slider\":{\"id\":\"1852\"},\"source\":{\"id\":\"1816\"}},\"code\":\"\\n    var data = source.data;\\n    var f = slider.value;\\n    var x = data['x']\\n    var y = data['y']\\n    for (var i = 0; i < x.length; i++) {\\n        y[i] = Math.pow(x[i], f)\\n    }\\n    \\n    // necessary becasue we mutated source.data in-place\\n    source.change.emit();\\n\"},\"id\":\"1853\",\"type\":\"CustomJS\"},{\"attributes\":{},\"id\":\"1918\",\"type\":\"UnionRenderers\"},{\"attributes\":{},\"id\":\"1919\",\"type\":\"Selection\"},{\"attributes\":{\"text\":\"\"},\"id\":\"1912\",\"type\":\"Title\"},{\"attributes\":{\"data\":{\"x\":[0.0,0.005,0.01,0.015,0.02,0.025,0.03,0.035,0.04,0.045,0.05,0.055,0.06,0.065,0.07,0.075,0.08,0.085,0.09,0.095,0.1,0.105,0.11,0.115,0.12,0.125,0.13,0.135,0.14,0.145,0.15,0.155,0.16,0.165,0.17,0.17500000000000002,0.18,0.185,0.19,0.195,0.2,0.20500000000000002,0.21,0.215,0.22,0.225,0.23,0.23500000000000001,0.24,0.245,0.25,0.255,0.26,0.265,0.27,0.275,0.28,0.28500000000000003,0.29,0.295,0.3,0.305,0.31,0.315,0.32,0.325,0.33,0.335,0.34,0.34500000000000003,0.35000000000000003,0.355,0.36,0.365,0.37,0.375,0.38,0.385,0.39,0.395,0.4,0.405,0.41000000000000003,0.41500000000000004,0.42,0.425,0.43,0.435,0.44,0.445,0.45,0.455,0.46,0.465,0.47000000000000003,0.47500000000000003,0.48,0.485,0.49,0.495,0.5,0.505,0.51,0.515,0.52,0.525,0.53,0.535,0.54,0.545,0.55,0.555,0.56,0.5650000000000001,0.5700000000000001,0.5750000000000001,0.58,0.585,0.59,0.595,0.6,0.605,0.61,0.615,0.62,0.625,0.63,0.635,0.64,0.645,0.65,0.655,0.66,0.665,0.67,0.675,0.68,0.685,0.6900000000000001,0.6950000000000001,0.7000000000000001,0.705,0.71,0.715,0.72,0.725,0.73,0.735,0.74,0.745,0.75,0.755,0.76,0.765,0.77,0.775,0.78,0.785,0.79,0.795,0.8,0.805,0.81,0.8150000000000001,0.8200000000000001,0.8250000000000001,0.8300000000000001,0.835,0.84,0.845,0.85,0.855,0.86,0.865,0.87,0.875,0.88,0.885,0.89,0.895,0.9,0.905,0.91,0.915,0.92,0.925,0.93,0.935,0.9400000000000001,0.9450000000000001,0.9500000000000001,0.9550000000000001,0.96,0.965,0.97,0.975,0.98,0.985,0.99,0.995,1.0],\"y\":[0.0,0.005,0.01,0.015,0.02,0.025,0.03,0.035,0.04,0.045,0.05,0.055,0.06,0.065,0.07,0.075,0.08,0.085,0.09,0.095,0.1,0.105,0.11,0.115,0.12,0.125,0.13,0.135,0.14,0.145,0.15,0.155,0.16,0.165,0.17,0.17500000000000002,0.18,0.185,0.19,0.195,0.2,0.20500000000000002,0.21,0.215,0.22,0.225,0.23,0.23500000000000001,0.24,0.245,0.25,0.255,0.26,0.265,0.27,0.275,0.28,0.28500000000000003,0.29,0.295,0.3,0.305,0.31,0.315,0.32,0.325,0.33,0.335,0.34,0.34500000000000003,0.35000000000000003,0.355,0.36,0.365,0.37,0.375,0.38,0.385,0.39,0.395,0.4,0.405,0.41000000000000003,0.41500000000000004,0.42,0.425,0.43,0.435,0.44,0.445,0.45,0.455,0.46,0.465,0.47000000000000003,0.47500000000000003,0.48,0.485,0.49,0.495,0.5,0.505,0.51,0.515,0.52,0.525,0.53,0.535,0.54,0.545,0.55,0.555,0.56,0.5650000000000001,0.5700000000000001,0.5750000000000001,0.58,0.585,0.59,0.595,0.6,0.605,0.61,0.615,0.62,0.625,0.63,0.635,0.64,0.645,0.65,0.655,0.66,0.665,0.67,0.675,0.68,0.685,0.6900000000000001,0.6950000000000001,0.7000000000000001,0.705,0.71,0.715,0.72,0.725,0.73,0.735,0.74,0.745,0.75,0.755,0.76,0.765,0.77,0.775,0.78,0.785,0.79,0.795,0.8,0.805,0.81,0.8150000000000001,0.8200000000000001,0.8250000000000001,0.8300000000000001,0.835,0.84,0.845,0.85,0.855,0.86,0.865,0.87,0.875,0.88,0.885,0.89,0.895,0.9,0.905,0.91,0.915,0.92,0.925,0.93,0.935,0.9400000000000001,0.9450000000000001,0.9500000000000001,0.9550000000000001,0.96,0.965,0.97,0.975,0.98,0.985,0.99,0.995,1.0]},\"selected\":{\"id\":\"1919\"},\"selection_policy\":{\"id\":\"1918\"}},\"id\":\"1816\",\"type\":\"ColumnDataSource\"},{\"attributes\":{\"data_source\":{\"id\":\"1816\"},\"glyph\":{\"id\":\"1848\"},\"hover_glyph\":null,\"muted_glyph\":null,\"nonselection_glyph\":{\"id\":\"1849\"},\"selection_glyph\":null,\"view\":{\"id\":\"1851\"}},\"id\":\"1850\",\"type\":\"GlyphRenderer\"},{\"attributes\":{\"below\":[{\"id\":\"1826\"}],\"center\":[{\"id\":\"1829\"},{\"id\":\"1833\"}],\"left\":[{\"id\":\"1830\"}],\"plot_height\":400,\"plot_width\":400,\"renderers\":[{\"id\":\"1850\"}],\"title\":{\"id\":\"1912\"},\"toolbar\":{\"id\":\"1840\"},\"x_range\":{\"id\":\"1818\"},\"x_scale\":{\"id\":\"1822\"},\"y_range\":{\"id\":\"1820\"},\"y_scale\":{\"id\":\"1824\"}},\"id\":\"1817\",\"subtype\":\"Figure\",\"type\":\"Plot\"},{\"attributes\":{},\"id\":\"1827\",\"type\":\"BasicTicker\"},{\"attributes\":{},\"id\":\"1822\",\"type\":\"LinearScale\"},{\"attributes\":{},\"id\":\"1818\",\"type\":\"DataRange1d\"},{\"attributes\":{\"formatter\":{\"id\":\"1916\"},\"ticker\":{\"id\":\"1827\"}},\"id\":\"1826\",\"type\":\"LinearAxis\"},{\"attributes\":{},\"id\":\"1820\",\"type\":\"DataRange1d\"}],\"root_ids\":[\"1854\"]},\"title\":\"Bokeh Application\",\"version\":\"2.0.0\"}};\n",
       "  var render_items = [{\"docid\":\"ee3b5658-8b6e-4bdf-abf2-ac16e9e47534\",\"root_ids\":[\"1854\"],\"roots\":{\"1854\":\"df8475c8-0522-457c-a2ec-7585e6f64c67\"}}];\n",
       "  root.Bokeh.embed.embed_items_notebook(docs_json, render_items);\n",
       "\n",
       "  }\n",
       "  if (root.Bokeh !== undefined) {\n",
       "    embed_document(root);\n",
       "  } else {\n",
       "    var attempts = 0;\n",
       "    var timer = setInterval(function(root) {\n",
       "      if (root.Bokeh !== undefined) {\n",
       "        clearInterval(timer);\n",
       "        embed_document(root);\n",
       "      } else {\n",
       "        attempts++;\n",
       "        if (attempts > 100) {\n",
       "          clearInterval(timer);\n",
       "          console.log(\"Bokeh: ERROR: Unable to run BokehJS code because BokehJS library is missing\");\n",
       "        }\n",
       "      }\n",
       "    }, 10, root)\n",
       "  }\n",
       "})(window);"
      ],
      "application/vnd.bokehjs_exec.v0+json": ""
     },
     "metadata": {
      "application/vnd.bokehjs_exec.v0+json": {
       "id": "1854"
      }
     },
     "output_type": "display_data"
    }
   ],
   "source": [
    "from bokeh.layouts import column\n",
    "from bokeh.models import CustomJS, ColumnDataSource, Slider\n",
    "\n",
    "x = [x*0.005 for x in range(0, 201)]\n",
    "\n",
    "source = ColumnDataSource(data=dict(x=x, y=x))\n",
    "\n",
    "plot = figure(plot_width=400, plot_height=400)\n",
    "plot.line('x', 'y', source=source, line_width=3, line_alpha=0.6)\n",
    "\n",
    "slider = Slider(start=0.1, end=6, value=1, step=.1, title=\"power\")\n",
    "\n",
    "update_curve = CustomJS(args=dict(source=source, slider=slider), code=\"\"\"\n",
    "    var data = source.data;\n",
    "    var f = slider.value;\n",
    "    var x = data['x']\n",
    "    var y = data['y']\n",
    "    for (var i = 0; i < x.length; i++) {\n",
    "        y[i] = Math.pow(x[i], f)\n",
    "    }\n",
    "    \n",
    "    // necessary becasue we mutated source.data in-place\n",
    "    source.change.emit();\n",
    "\"\"\")\n",
    "slider.js_on_change('value', update_curve)\n",
    "\n",
    "\n",
    "show(column(slider, plot))"
   ]
  },
  {
   "cell_type": "code",
   "execution_count": 12,
   "metadata": {},
   "outputs": [],
   "source": [
    "# Exercise: Create a plot that updates based on a Select widget\n",
    "\n"
   ]
  },
  {
   "cell_type": "markdown",
   "metadata": {},
   "source": [
    "### Data selection example\n",
    "\n",
    "It's also possible to make JavaScript actions that execute whenever a user selection (e.g., box, point, lasso) changes. This is done by attaching the same kind of CustomJS object to whatever data source the selection is made on.\n",
    "\n",
    "The example below is a bit more sophisticated, and demonstrates updating one glyph's data source in response to another glyph's selection: "
   ]
  },
  {
   "cell_type": "code",
   "execution_count": 13,
   "metadata": {},
   "outputs": [
    {
     "data": {
      "text/html": [
       "\n",
       "\n",
       "\n",
       "\n",
       "\n",
       "\n",
       "  <div class=\"bk-root\" id=\"59d933df-204b-4303-bb37-30bc8db443fe\" data-root-id=\"1976\"></div>\n"
      ]
     },
     "metadata": {},
     "output_type": "display_data"
    },
    {
     "data": {
      "application/javascript": [
       "(function(root) {\n",
       "  function embed_document(root) {\n",
       "    \n",
       "  var docs_json = {\"65a15a7f-24b6-49d9-8b45-75c350e2f63b\":{\"roots\":{\"references\":[{\"attributes\":{\"below\":[{\"id\":\"1987\"}],\"center\":[{\"id\":\"1990\"},{\"id\":\"1994\"}],\"left\":[{\"id\":\"1991\"}],\"plot_height\":400,\"plot_width\":400,\"renderers\":[{\"id\":\"2002\"},{\"id\":\"2008\"}],\"title\":{\"id\":\"1977\"},\"toolbar\":{\"id\":\"1996\"},\"x_range\":{\"id\":\"1979\"},\"x_scale\":{\"id\":\"1983\"},\"y_range\":{\"id\":\"1981\"},\"y_scale\":{\"id\":\"1985\"}},\"id\":\"1976\",\"subtype\":\"Figure\",\"type\":\"Plot\"},{\"attributes\":{},\"id\":\"1983\",\"type\":\"LinearScale\"},{\"attributes\":{},\"id\":\"2085\",\"type\":\"UnionRenderers\"},{\"attributes\":{},\"id\":\"1985\",\"type\":\"LinearScale\"},{\"attributes\":{},\"id\":\"2086\",\"type\":\"Selection\"},{\"attributes\":{},\"id\":\"1988\",\"type\":\"BasicTicker\"},{\"attributes\":{\"formatter\":{\"id\":\"2081\"},\"ticker\":{\"id\":\"1988\"}},\"id\":\"1987\",\"type\":\"LinearAxis\"},{\"attributes\":{\"axis\":{\"id\":\"1987\"},\"ticker\":null},\"id\":\"1990\",\"type\":\"Grid\"},{\"attributes\":{\"formatter\":{\"id\":\"2079\"},\"ticker\":{\"id\":\"1992\"}},\"id\":\"1991\",\"type\":\"LinearAxis\"},{\"attributes\":{},\"id\":\"1992\",\"type\":\"BasicTicker\"},{\"attributes\":{\"overlay\":{\"id\":\"2087\"}},\"id\":\"1995\",\"type\":\"LassoSelectTool\"},{\"attributes\":{\"axis\":{\"id\":\"1991\"},\"dimension\":1,\"ticker\":null},\"id\":\"1994\",\"type\":\"Grid\"},{\"attributes\":{\"fill_alpha\":{\"value\":0.1},\"fill_color\":{\"field\":\"color\"},\"line_alpha\":{\"value\":0.1},\"line_color\":{\"field\":\"color\"},\"size\":{\"units\":\"screen\",\"value\":8},\"x\":{\"field\":\"x\"},\"y\":{\"field\":\"y\"}},\"id\":\"2000\",\"type\":\"Circle\"},{\"attributes\":{\"source\":{\"id\":\"1975\"}},\"id\":\"2003\",\"type\":\"CDSView\"},{\"attributes\":{},\"id\":\"2081\",\"type\":\"BasicTickFormatter\"},{\"attributes\":{\"data_source\":{\"id\":\"1975\"},\"glyph\":{\"id\":\"1999\"},\"hover_glyph\":null,\"muted_glyph\":null,\"nonselection_glyph\":{\"id\":\"2000\"},\"selection_glyph\":{\"id\":\"2001\"},\"view\":{\"id\":\"2003\"}},\"id\":\"2002\",\"type\":\"GlyphRenderer\"},{\"attributes\":{\"data\":{\"xm\":[0,1],\"ym\":[0.5,0.5]},\"selected\":{\"id\":\"2086\"},\"selection_policy\":{\"id\":\"2085\"}},\"id\":\"2004\",\"type\":\"ColumnDataSource\"},{\"attributes\":{\"data_source\":{\"id\":\"2004\"},\"glyph\":{\"id\":\"2006\"},\"hover_glyph\":null,\"muted_glyph\":null,\"nonselection_glyph\":{\"id\":\"2007\"},\"selection_glyph\":null,\"view\":{\"id\":\"2009\"}},\"id\":\"2008\",\"type\":\"GlyphRenderer\"},{\"attributes\":{\"fill_alpha\":{\"value\":0.4},\"fill_color\":{\"value\":\"firebrick\"},\"line_alpha\":{\"value\":0.4},\"line_color\":{\"value\":\"firebrick\"},\"size\":{\"units\":\"screen\",\"value\":8},\"x\":{\"field\":\"x\"},\"y\":{\"field\":\"y\"}},\"id\":\"2001\",\"type\":\"Circle\"},{\"attributes\":{\"fill_alpha\":0.5,\"fill_color\":\"lightgrey\",\"level\":\"overlay\",\"line_alpha\":1.0,\"line_color\":\"black\",\"line_dash\":[4,4],\"line_width\":2,\"xs_units\":\"screen\",\"ys_units\":\"screen\"},\"id\":\"2087\",\"type\":\"PolyAnnotation\"},{\"attributes\":{},\"id\":\"1981\",\"type\":\"DataRange1d\"},{\"attributes\":{\"data\":{\"color\":[\"navy\",\"navy\",\"navy\",\"navy\",\"navy\",\"navy\",\"navy\",\"navy\",\"navy\",\"navy\",\"navy\",\"navy\",\"navy\",\"navy\",\"navy\",\"navy\",\"navy\",\"navy\",\"navy\",\"navy\",\"navy\",\"navy\",\"navy\",\"navy\",\"navy\",\"navy\",\"navy\",\"navy\",\"navy\",\"navy\",\"navy\",\"navy\",\"navy\",\"navy\",\"navy\",\"navy\",\"navy\",\"navy\",\"navy\",\"navy\",\"navy\",\"navy\",\"navy\",\"navy\",\"navy\",\"navy\",\"navy\",\"navy\",\"navy\",\"navy\",\"navy\",\"navy\",\"navy\",\"navy\",\"navy\",\"navy\",\"navy\",\"navy\",\"navy\",\"navy\",\"navy\",\"navy\",\"navy\",\"navy\",\"navy\",\"navy\",\"navy\",\"navy\",\"navy\",\"navy\",\"navy\",\"navy\",\"navy\",\"navy\",\"navy\",\"navy\",\"navy\",\"navy\",\"navy\",\"navy\",\"navy\",\"navy\",\"navy\",\"navy\",\"navy\",\"navy\",\"navy\",\"navy\",\"navy\",\"navy\",\"navy\",\"navy\",\"navy\",\"navy\",\"navy\",\"navy\",\"navy\",\"navy\",\"navy\",\"navy\",\"navy\",\"navy\",\"navy\",\"navy\",\"navy\",\"navy\",\"navy\",\"navy\",\"navy\",\"navy\",\"navy\",\"navy\",\"navy\",\"navy\",\"navy\",\"navy\",\"navy\",\"navy\",\"navy\",\"navy\",\"navy\",\"navy\",\"navy\",\"navy\",\"navy\",\"navy\",\"navy\",\"navy\",\"navy\",\"navy\",\"navy\",\"navy\",\"navy\",\"navy\",\"navy\",\"navy\",\"navy\",\"navy\",\"navy\",\"navy\",\"navy\",\"navy\",\"navy\",\"navy\",\"navy\",\"navy\",\"navy\",\"navy\",\"navy\",\"navy\",\"navy\",\"navy\",\"navy\",\"navy\",\"navy\",\"navy\",\"navy\",\"navy\",\"navy\",\"navy\",\"navy\",\"navy\",\"navy\",\"navy\",\"navy\",\"navy\",\"navy\",\"navy\",\"navy\",\"navy\",\"navy\",\"navy\",\"navy\",\"navy\",\"navy\",\"navy\",\"navy\",\"navy\",\"navy\",\"navy\",\"navy\",\"navy\",\"navy\",\"navy\",\"navy\",\"navy\",\"navy\",\"navy\",\"navy\",\"navy\",\"navy\",\"navy\",\"navy\",\"navy\",\"navy\",\"navy\",\"navy\",\"navy\",\"navy\",\"navy\",\"navy\",\"navy\",\"navy\",\"navy\",\"navy\",\"navy\",\"navy\",\"navy\",\"navy\",\"navy\",\"navy\",\"navy\",\"navy\",\"navy\",\"navy\",\"navy\",\"navy\",\"navy\",\"navy\",\"navy\",\"navy\",\"navy\",\"navy\",\"navy\",\"navy\",\"navy\",\"navy\",\"navy\",\"navy\",\"navy\",\"navy\",\"navy\",\"navy\",\"navy\",\"navy\",\"navy\",\"navy\",\"navy\",\"navy\",\"navy\",\"navy\",\"navy\",\"navy\",\"navy\",\"navy\",\"navy\",\"navy\",\"navy\",\"navy\",\"navy\",\"navy\",\"navy\",\"navy\",\"navy\",\"navy\",\"navy\",\"navy\",\"navy\",\"navy\",\"navy\",\"navy\",\"navy\",\"navy\",\"navy\",\"navy\",\"navy\",\"navy\",\"navy\",\"navy\",\"navy\",\"navy\",\"navy\",\"navy\",\"navy\",\"navy\",\"navy\",\"navy\",\"navy\",\"navy\",\"navy\",\"navy\",\"navy\",\"navy\",\"navy\",\"navy\",\"navy\",\"navy\",\"navy\",\"navy\",\"navy\",\"navy\",\"navy\",\"navy\",\"navy\",\"navy\",\"navy\",\"navy\",\"navy\",\"navy\",\"navy\",\"navy\",\"navy\",\"navy\",\"navy\",\"navy\",\"navy\",\"navy\",\"navy\",\"navy\",\"navy\",\"navy\",\"navy\",\"navy\",\"navy\",\"navy\",\"navy\",\"navy\",\"navy\",\"navy\",\"navy\",\"navy\",\"navy\",\"navy\",\"navy\",\"navy\",\"navy\",\"navy\",\"navy\",\"navy\",\"navy\",\"navy\",\"navy\",\"navy\",\"navy\",\"navy\",\"navy\",\"navy\",\"navy\",\"navy\",\"navy\",\"navy\",\"navy\",\"navy\",\"navy\",\"navy\",\"navy\",\"navy\",\"navy\",\"navy\",\"navy\",\"navy\",\"navy\",\"navy\",\"navy\",\"navy\",\"navy\",\"navy\",\"navy\",\"navy\",\"navy\",\"navy\",\"navy\",\"navy\",\"navy\",\"navy\",\"navy\",\"navy\",\"navy\",\"navy\",\"navy\",\"navy\",\"navy\",\"navy\",\"navy\",\"navy\",\"navy\",\"navy\",\"navy\",\"navy\",\"navy\",\"navy\",\"navy\",\"navy\",\"navy\",\"navy\",\"navy\",\"navy\",\"navy\",\"navy\",\"navy\",\"navy\",\"navy\",\"navy\",\"navy\",\"navy\",\"navy\",\"navy\",\"navy\",\"navy\",\"navy\",\"navy\",\"navy\",\"navy\",\"navy\",\"navy\",\"navy\",\"navy\",\"navy\",\"navy\",\"navy\",\"navy\",\"navy\",\"navy\",\"navy\",\"navy\",\"navy\",\"navy\",\"navy\",\"navy\",\"navy\",\"navy\",\"navy\",\"navy\",\"navy\",\"navy\",\"navy\",\"navy\",\"navy\",\"navy\",\"navy\",\"navy\",\"navy\",\"navy\",\"navy\",\"navy\",\"navy\",\"navy\",\"navy\",\"navy\",\"navy\",\"navy\",\"navy\",\"navy\",\"navy\",\"navy\",\"navy\",\"navy\",\"navy\",\"navy\",\"navy\",\"navy\",\"navy\",\"navy\",\"navy\",\"navy\",\"navy\",\"navy\",\"navy\",\"navy\",\"navy\",\"navy\",\"navy\",\"navy\",\"navy\",\"navy\",\"navy\",\"navy\",\"navy\",\"navy\",\"navy\",\"navy\",\"navy\",\"navy\",\"navy\",\"navy\",\"navy\",\"navy\",\"navy\",\"navy\",\"navy\",\"navy\",\"navy\",\"navy\",\"navy\",\"navy\",\"navy\",\"navy\",\"navy\",\"navy\",\"navy\",\"navy\",\"navy\",\"navy\",\"navy\",\"navy\",\"navy\",\"navy\",\"navy\",\"navy\",\"navy\"],\"x\":[0.13272198746194463,0.3957467742026035,0.7050092513741311,0.44521583875456106,0.15719339659443332,0.3774975015682417,0.03320932976832647,0.22299914589966663,0.00813388843547902,0.8573654478562577,0.3406898592403075,0.923615540737504,0.8345658479442463,0.7256702835867354,0.7481749839132286,0.24444013851047108,0.1818673251936841,0.047281820832563604,0.6191944943832702,0.16779158166744157,0.9461603853307884,0.9950335276177102,0.31039684863015427,0.39056519621102126,0.29892922676123823,0.6065483396617521,0.9290922056931062,0.4216780378278704,0.20813411219095423,0.7669315935237293,0.2835139755136724,0.7370322609702455,0.3025920444608281,0.7237911527650502,0.8511518150106775,0.4734227162246526,0.5939888573311681,0.02646312191753819,0.7796977378280365,0.6048709908403667,0.32992673666698547,0.49014491245138125,0.6259459496096011,0.344043564419506,0.45249133353417426,0.8281127179106248,0.8801205583965875,0.7933673844946804,0.05633822352496465,0.8114611346144084,0.9457293229290146,0.8390741661675519,0.5324509998401351,0.19663079745391188,0.3531443928819117,0.7917010795398853,0.05306627156219168,0.566442305981777,0.9606246306954191,0.9164883357610906,0.31085520571561565,0.19379404681342194,0.5122892124253754,0.769917672026764,0.08956544063205618,0.6111434660390347,0.364029941853405,0.0013780495433159956,0.09016192537806633,0.8232999450424593,0.40345681820164514,0.3467452771919022,0.8070026078716946,0.3483452663722655,0.7979092741724424,0.5265726619134554,0.4128134702928594,0.09759732497072016,0.7971662675557003,0.3707963020712498,0.005579229699380295,0.7545584995564665,0.822695302764007,0.07507047479395723,0.23956759065631272,0.1270989789721516,0.9426554806576467,0.2965865294894783,0.6756174341687425,0.2256597237878264,0.6834824139397925,0.36145624410901633,0.46246560517991053,0.2744601897028389,0.6333593471246372,0.8611901431893795,0.636503282503568,0.4302767462529262,0.8339131367317567,0.8794233171336573,0.3780154549920798,0.03463673454348448,0.8274702865877207,0.4602012767192447,0.3822424757307734,0.7562532021899998,0.6158398116370708,0.9028233138026985,0.3634352678566315,0.2821029464249746,0.2839462779357649,0.6556689153346353,0.7837880396838856,0.6587612912535677,0.03399104140940268,0.3928547043397479,0.03671781221613424,0.8835943787157884,0.27349776665008907,0.5782920829448891,0.5993667688937587,0.016120346928071738,0.9465728078469013,0.6377980245706341,0.5721070964902512,0.2621502794452477,0.5837333286043364,0.02270771514621661,0.464240352718701,0.5475863488043587,0.9643156682233501,0.18129277035695412,0.14287051183176636,0.8906880391439719,0.6362175315827852,0.02294234837671838,0.7260681841691293,0.3980319630392831,0.7375522648549501,0.9061060218825838,0.5979474210762182,0.820379072841029,0.03566454277301945,0.5622838716229396,0.012210444891524563,0.6849844906205579,0.2974993334960535,0.549884576314852,0.14791899941625053,0.5315471647582143,0.42064993604104706,0.6755946443044635,0.07705807528462572,0.5960800593075726,0.7255719192914665,0.06570249124106431,0.8007678628234799,0.7268399361287265,0.4985908091954224,0.21471366098886568,0.5292071933505677,0.007179310211915535,0.7324216527917535,0.9051003509199156,0.9617763033039118,0.8255049718130126,0.40268780345288746,0.1590963888990503,0.4448780969734796,0.05866379928618959,0.1692066783591788,0.6901845155729568,0.16908871618815957,0.23209594407141,0.9054672298434373,0.28121710761397367,0.4503918754528309,0.1537104970863068,0.2762697349832468,0.30488390997463366,0.9406430568963218,0.6808351475290616,0.4919578681699407,0.10794474320646719,0.648789236708833,0.0021125702213288244,0.22477353659075983,0.8142989142831697,0.9578979655018134,0.2845690659929543,0.08841802794925258,0.7894735240688624,0.11162539678395955,0.782501890139186,0.5556337917613227,0.49668396239410817,0.8901341823433899,0.7597048104950724,0.574250650964424,0.687689991846084,0.4498823653115187,0.43406513918711154,0.3405494148645013,0.0762002466925028,0.20629312977284642,0.05523772027915652,0.36936546079306953,0.6266714337383459,0.6682069918650001,0.8088025009176308,0.8266668978287763,0.7083881290346082,0.43237041929605713,0.1194604050056074,0.2313290361054089,0.2214810752801446,0.6818651117613324,0.44781526527164695,0.36896011584177024,0.6085519493872371,0.14510412285777907,0.22450916544326394,0.11139780116158116,0.07545283981163553,0.8013591202531047,0.7851611363625276,0.3529216455685491,0.9527488427436452,0.9928992898794629,0.6004813273947373,0.25179028220355526,0.20443232755213847,0.5776439765315361,0.5577166931131836,0.5007492941879178,0.7188904763936375,0.45548338324688764,0.904460532809334,0.9875626447428231,0.9150131297296243,0.15262591295404382,0.11346282412329889,0.25161154087640225,0.45460968955485515,0.7569203315676105,0.5600903154444785,0.05922927557697366,0.7257677127337284,0.7061412542967607,0.9109087137086672,0.3228187696138335,0.7915137851605651,0.6641012489304515,0.11761349670746546,0.49941413519351296,0.4896436496146592,0.1201750652023843,0.42339714324534794,0.9617793440999489,0.8593246132346005,0.014050113840901601,0.7045026300587793,0.32854149776004526,0.5759405650184204,0.970315926487556,0.8675351228393268,0.10387410244584172,0.522650788837568,0.08540205674341261,0.6908303528617677,0.9760111579293902,0.6587838448184763,0.21126974263656717,0.7257334443870663,0.18596498570263043,0.4077173127820539,0.3194712745193736,0.6459619252794047,0.05078581722015574,0.026606536273460768,0.26261285297440184,0.08521870778892604,0.9973592022471702,0.05588931029475963,0.8634088297204545,0.18832545153829594,0.7440182202333055,0.39097800126379345,0.06501945964012557,0.20197895128510857,0.7180213098246528,0.7024704167825028,0.40988466049565764,0.48122709874642433,0.40568063197954174,0.23222381011453241,0.8168654598341218,0.08585402680918375,0.7873438447636143,0.7398023282732608,0.2076471803942379,0.2844692458173862,0.7180981952973059,0.5522138701210132,0.07188922561204414,0.5977841441902484,0.7121763577654037,0.05425241391756097,0.6144725859910075,0.003325682506330141,0.9725710230826266,0.6314735639893493,0.009720903482797305,0.33028754571756547,0.1594374127984245,0.15631019613496655,0.519660223725786,0.26003797855089705,0.01210717758226787,0.024729468332808424,0.7238809283060201,0.10913521761219758,0.5184444983301257,0.29007142737569946,0.7086742754940712,0.5384959525779476,0.5334343808506031,0.48051576401915974,0.720346389258992,0.6487359190046661,0.9036039855862621,0.7576255563460229,0.012663031492146426,0.4617695474765935,0.7193864243462955,0.22651961564821,0.6494148569433356,0.5359419697125346,0.31346622096867194,0.8917500634215065,0.8615382595150702,0.49245666101874597,0.7128580253698922,0.21855000164027716,0.9733955528001011,0.8017252446564456,0.10099471801593163,0.2635329000791402,0.23774296397291017,0.39750251657568336,0.16054179988490802,0.20828594370683928,0.42894283510500886,0.7190803935364626,0.4120783127822091,0.03679582450543717,0.7672214978821695,0.9063119705004608,0.16414879617373546,0.34026530173615266,0.9818248610737715,0.9333423888642073,0.6604637934038995,0.24149204469639418,0.5814273069914859,0.3922015748428048,0.5534505450712593,0.6933022796631715,0.5892718379893306,0.8735610817403567,0.7802223751379559,0.05939839408524483,0.40075205653676216,0.6816812692156402,0.3790185230186298,0.42519634966620035,0.26655957828266774,0.9880341485875007,0.16230485859005406,0.95292503372529,0.5757665945553883,0.2580399897975948,0.38615771806944965,0.3340955546886014,0.4020815509827528,0.7538905516573277,0.37395283845500615,0.20589562513423143,0.3186550480984873,0.8800302963248743,0.08682692511725398,0.5567698563080506,0.12368422599127227,0.09976178134588443,0.4969378402956186,0.49140000390607674,0.5553614662912029,0.9522814641580304,0.699749512048613,0.9259291182890723,0.32287072048782306,0.027415024883110428,0.14475690052231838,0.5517982398023502,0.8076632362032847,0.5229511215389876,0.9760896439233847,0.23525138368857823,0.17811980270331396,0.35459964899303176,0.6618806319358361,0.7004933695555216,0.38726791393186955,0.6166412314447886,0.6108016475411343,0.8046033026250666,0.4161199697537782,0.6551964841895065,0.3557157761412204,0.8806664593130352,0.9660819642529513,0.6135990243118752,0.8230254181835298,0.9885268613416255,0.243095978760408,0.3854604059461867,0.20052737710149304,0.9250667340544528,0.4307791439812312,0.6302007106737011,0.77340100225919,0.08574459080525909,0.3219760717690956,0.9675593095130317,0.2906412023881718,0.022736703542244552,0.817462530761674,0.7084691353650021,0.9632026926467792,0.46259041406908474,0.583569877821084,0.42156454153854195,0.8971332338591935,0.29303424781643206,0.956742542767217,0.7769823703601573,0.6109451678961598,0.9054304914924898,0.512816964372315,0.8323090763692585,0.42031236681993167,0.39938695904078514,0.014902976255675049,0.09411423069822511,0.9584350564050861,0.46529669088526304,0.4323160579824822,0.1878895800583137,0.608761954706225,0.7179237282684916,0.8376388225548297,0.9588905554766676,0.11074858746025562,0.8715481554405735,0.30257726277683517,0.15605524793958736,0.931936127321979,0.20183815921411596,0.1689672121404323,0.7459632510516869,0.7525331184619557,0.906876321134818,0.8175561104628774,0.4337755308413468,0.24107367270204527,0.5318046169399085,0.49882976037872007,0.1735465576740145,0.44389867778433434,0.7399739013290445,0.36800873220613806,0.9790288294896927,0.8299834338294352,0.30487942870324636,0.027749423538976248,0.27329655310860157,0.7909194867731795,0.48059317611062424,0.5717200400016604,0.7847343742028021,0.6484649842508966,0.1780078979698393,0.2134608908736696,0.591332551794603,0.2978737189963455,0.39304647156560013,0.9224067130587398,0.7311517007846561,0.278606146335298,0.4810038447416396],\"y\":[0.10434275071926657,0.8831805113589223,0.1714411152624622,0.09516357490621763,0.9353731678754542,0.16886124484411635,0.9759298122543159,0.17226897527233154,0.07526249337169999,0.8481489943963815,0.8952417035595955,0.35286344404150516,0.8738829909097281,0.935249586961586,0.255904057983819,0.5173443036777903,0.482506885023963,0.31457379371895056,0.14748212849749676,0.7008299313500509,0.055261275983064406,0.6675522115980631,0.18252502957702388,0.26678258014007794,0.41164531140404825,0.8813976281851045,0.3957012809438607,0.8267517297367337,0.6801953015112723,0.7083529169967941,0.27313924880928375,0.6352125460436042,0.5112343683398347,0.14478214628898756,0.016378502000595097,0.8734486185935345,0.2234123047347093,0.3109372444393741,0.23572707043019658,0.11594816497934501,0.7014971621659287,0.4626500974514397,0.2645385240105269,0.24558477974946546,0.8815339983129686,0.2589015701933287,0.7530048922060024,0.522606158303367,0.6493215523573035,0.0075104557245847525,0.753986441889514,0.7870527019987776,0.6998814493075763,0.25262859072888266,0.7095477662066528,0.04316393725046197,0.5307831460096417,0.08547732762820015,0.6160613660485074,0.7262791080850934,0.7305356433018836,0.5348281259477746,0.8441542194607196,0.14148442546420847,0.11176298843166943,0.36114043594047995,0.5934981321390271,0.7086832454423143,0.5695127654496029,0.2227932818126135,0.18413648198064536,0.6735527205439936,0.8262594818315134,0.8268967009368954,0.9262345899339735,0.5539460128257168,0.743315414456092,0.8877558224445478,0.4694772655298144,0.8493006218166598,0.6966580778567394,0.9748184686547641,0.49691624574308135,0.8156043010147557,0.9227434653905408,0.12170049146615025,0.4193594599895121,0.9260807897672202,0.352867556091607,0.31727827272240483,0.856763949892254,0.8954208876028564,0.29201674624451057,0.4719803333933674,0.3664077394788866,0.1168888622764287,0.3527347077528705,0.78145118900739,0.24248427847919463,0.11407091800543545,0.6592663799488335,0.849060513520568,0.6375690561935244,0.6120282996115978,0.02115970034274328,0.5545198203612759,0.4845395710351009,0.1441922276085692,0.31914002720307066,0.03114182922603914,0.14822603529775935,0.7492032486465671,0.4828958784883074,0.6409070742918312,0.7305169095075329,0.4507712381881378,0.20986472647724763,0.8213025703685904,0.18543404548308873,0.9811881011680308,0.388041379613392,0.13112601771688326,0.6240855412167448,0.03751887138145482,0.3407393614886064,0.39787982230360697,0.5216761874363447,0.17254801301882816,0.16864857789890342,0.5487317727992074,0.58608122688764,0.25289357130049905,0.001510352098051837,0.030139810428776115,0.29749273447035685,0.5321751653817446,0.159452789294925,0.27331759160832203,0.08662907111986973,0.3706176003013518,0.3203162656077091,0.2555683243853155,0.7161093970915782,0.9875656052953063,0.7371831888111485,0.4679288152696929,0.02789647146835772,0.2049922987180708,0.8603012654723495,0.5045582936066991,0.2025397914558562,0.28063607401105717,0.08998325206823787,0.22573897762487694,0.21855307154201398,0.09205459647349012,0.5846600148377512,0.07470177974601466,0.9013858047245397,0.07834899964216713,0.6661789321217249,0.8530922912015891,0.9433028129673943,0.4812708857645632,0.8704907358271718,0.9673395241922323,0.44736482879917827,0.34110243797544537,0.9322668296270722,0.961912597008678,0.08052598307809455,0.5452691219104351,0.5959572570852959,0.6442435992720205,0.9311442470732325,0.4291647970257675,0.4557276547412412,0.16595315420012724,0.26102182654945527,0.9098157988700445,0.30639797272558245,0.20234394930059707,0.9326016567982004,0.9835276428205477,0.22046293849469334,0.8779841702193315,0.8592498693966072,0.2966947642193831,0.023388845369379796,0.9448494089974974,0.803215504526524,0.9015374780014836,0.6395832330390161,0.296909351936143,0.609845405605509,0.19656435113866966,0.43734913040350976,0.6059295136635205,0.13602277494817727,0.4491996297635159,0.4884367215793707,0.8283144760768125,0.552855044323139,0.882394171377802,0.7562836474304012,0.4465266543038481,0.3768458802046588,0.5004115905155816,0.4035401107151215,0.6257230875978995,0.4233669493067679,0.10627083627797917,0.4999463030841854,0.6748391984610715,0.4713970995232125,0.5442385559597921,0.944600134621405,0.002690275830901867,0.8676027043181541,0.6616297410374944,0.3861694703676427,0.8202514730816881,0.8523672740679755,0.5850294624756828,0.31682304361893043,0.651851918276829,0.020255459594893277,0.3768938565964104,0.5179844343679616,0.4975729156960502,0.616361269428574,0.4353167972096741,0.040951910032108185,0.551715665338049,0.531212941480452,0.24936870659428545,0.5481285012801872,0.4309780409023526,0.02030195535694901,0.7348039578525684,0.01807391019154503,0.8213041030139271,0.2098916665852466,0.8330060841841586,0.5354134485389453,0.436134394264594,0.12768701591031173,0.989934102276679,0.7142174382224207,0.9700377434303563,0.9419016532116562,0.1249477640329848,0.4764595366164762,0.7685055563611999,0.8091701843633075,0.06303995299480936,0.4969620016286238,0.29789318358660943,0.5592722571348379,0.30533399600917055,0.33502833859490744,0.007994879906850771,0.5436766660311193,0.7987365665389848,0.11861187234433557,0.23669612054462041,0.7098858269529209,0.1879606499975216,0.8989310465470892,0.48880964078641154,0.1834479222520059,0.3221589022376137,0.10378827380163691,0.4775414563591709,0.5037636431397606,0.5036909308469373,0.7634270274161757,0.9578186939553186,0.06501872813479115,0.395646997553998,0.9097585374833795,0.33481870824769533,0.6868882771613167,0.10427253748351151,0.9664168276048204,0.897740910224476,0.751621431587387,0.2712239963248544,0.6666785159065823,0.08544385855516501,0.3390690786631324,0.04465935781484154,0.8641569072835555,0.19619789440898783,0.6932250494290687,0.13600746783047224,0.9827762329317763,0.6960189696867652,0.5445871466820419,0.15420148535758316,0.974345146630624,0.9119506765174559,0.7590832211268712,0.6619573358751574,0.15554947007501352,0.3036961451279191,0.010252450537105773,0.1834692638620914,0.7192517755482067,0.1667451785057611,0.15808002973006763,0.275253230044358,0.9397938056891136,0.4064992029259299,0.866010317562819,0.29422928520997005,0.2360063048515444,0.3446482178343321,0.9494461671580784,0.631479174981149,0.42700874887330187,0.00028453682840490213,0.07574018731770504,0.5350448512783176,0.9601024502932973,0.737633665964298,0.9252134522717189,0.029811539766732453,0.45221210419547575,0.04806710062350661,0.5546315798933514,0.23994149931496733,0.34336186422167747,0.8585228910869641,0.20890335026371476,0.9353632107414255,0.5578111989622158,0.9433944090174241,0.5454021045480812,0.5869103664843126,0.5816183037764615,0.014638723766690842,0.2638925060337576,0.032211717722294364,0.7340299941483999,0.9143296499409501,0.12586833732500746,0.7680609293110708,0.7108430902616493,0.8643616389352226,0.31863794075558793,0.8999890335572609,0.2751496604094694,0.012914793000794011,0.9788554831982249,0.594308931568258,0.6678898732291291,0.8593631005764016,0.8991368892586435,0.4777033044625656,0.2696738802312215,0.9546504081375715,0.30973454750269325,0.401709106781465,0.7591498577154834,0.1799987674196799,0.7139128530864494,0.71293182202321,0.78834279639974,0.9012757982932706,0.2218792478520012,0.46380358251932674,0.3337732287890951,0.5626048289675507,0.4612663706347244,0.6676636672506969,0.4885671361685152,0.5331419715323928,0.3204124028952746,0.2966661360770867,0.9935927531151796,0.9660146181855078,0.832002964872504,0.22506825337086478,0.5336380396553535,0.02495578131525411,0.5546285405230693,0.5419774038771692,0.9903318867585886,0.9118243537906494,0.3596739908322151,0.8273062302104844,0.858407313526861,0.7354334921983516,0.9945726771692829,0.8247661711485695,0.7632959646354668,0.8466445597194183,0.5386704026869473,0.19590632830122034,0.6902131778840216,0.6645005540612501,0.8970096829579772,0.32239354924636043,0.3858415608316639,0.7183511064679466,0.1420667604672795,0.7971706743359853,0.9299119138825619,0.2407865257478662,0.8150125942935449,0.8282622769826012,0.2390027673072609,0.27781873721912187,0.03624999372392934,0.1634523539596272,0.9917501451631239,0.47968773319469993,0.879865985375576,0.3172614913734344,0.20654202999393234,0.2639028291042055,0.47743123159781753,0.4589095787686438,0.37443498769942707,0.2716137827025805,0.18614968955641564,0.4646821852282852,0.7082012285205819,0.39311372787227916,0.5811426223148575,0.5686417464088769,0.3728554150023403,0.6234362869199018,0.21913651459724925,0.4716758620511643,0.4536628301550346,0.29437987571628577,0.7600149370278241,0.422729387353022,0.9045825311982992,0.14731586946848574,0.6854378460912945,0.7353059522749474,0.006666175716865785,0.15243528262708417,0.696541670181776,0.7883648822681899,0.4388210975042275,0.4587257246967784,0.1665356073213089,0.44007840115771946,0.9453381778393517,0.33588598898689614,0.7348902789323309,0.49776678324094814,0.09607451246975796,0.21307492324735833,0.2824498519609221,0.3637825665220159,0.7869932122036459,0.3076195618192209,0.39550029852165514,0.5211423104759313,0.47131249255983465,0.27258253309835356,0.9176202161096665,0.46628792517918427,0.8931749536426573,0.22383147267591585,0.427810519949709,0.6749596025860923,0.9077012780608703,0.20284273003177056,0.8180252993201977,0.8036327767218705,0.45883931644801,0.7242169223836593,0.47844707882911497,0.8031547030355687,0.11174253579046745,0.4993865597132997,0.8061239113023029,0.705850832056834,0.5414161334199515,0.3824731824480331,0.05703428282475698,0.5097897837331162,0.669960646785366,0.8207410535173899,0.4599359786919778,0.25300817718313184,0.6067512356182974,0.9356024189934956,0.6188313576987192,0.9055705183001251,0.675180453337608,0.44412041749004927,0.3442249493204447,0.9828701156463099]},\"selected\":{\"id\":\"2011\"},\"selection_policy\":{\"id\":\"2083\"}},\"id\":\"1975\",\"type\":\"ColumnDataSource\"},{\"attributes\":{\"args\":{\"s1\":{\"id\":\"1975\"},\"s2\":{\"id\":\"2004\"}},\"code\":\"\\n    var inds = s1.selected.indices;\\n    if (inds.length == 0)\\n        return;\\n\\n    var ym = 0\\n    for (var i = 0; i < inds.length; i++) {\\n        ym += s1.data.y[inds[i]]\\n    }\\n    \\n    ym /= inds.length\\n    s2.data.ym = [ym, ym]\\n\\n    // necessary becasue we mutated source.data in-place\\n    s2.change.emit();  \\n\"},\"id\":\"2010\",\"type\":\"CustomJS\"},{\"attributes\":{\"line_alpha\":0.1,\"line_color\":\"orange\",\"line_width\":5,\"x\":{\"field\":\"xm\"},\"y\":{\"field\":\"ym\"}},\"id\":\"2007\",\"type\":\"Line\"},{\"attributes\":{\"line_alpha\":0.6,\"line_color\":\"orange\",\"line_width\":5,\"x\":{\"field\":\"xm\"},\"y\":{\"field\":\"ym\"}},\"id\":\"2006\",\"type\":\"Line\"},{\"attributes\":{},\"id\":\"1979\",\"type\":\"DataRange1d\"},{\"attributes\":{\"source\":{\"id\":\"2004\"}},\"id\":\"2009\",\"type\":\"CDSView\"},{\"attributes\":{\"fill_alpha\":{\"value\":0.4},\"fill_color\":{\"field\":\"color\"},\"line_alpha\":{\"value\":0.4},\"line_color\":{\"field\":\"color\"},\"size\":{\"units\":\"screen\",\"value\":8},\"x\":{\"field\":\"x\"},\"y\":{\"field\":\"y\"}},\"id\":\"1999\",\"type\":\"Circle\"},{\"attributes\":{\"text\":\"Select Here\"},\"id\":\"1977\",\"type\":\"Title\"},{\"attributes\":{\"js_property_callbacks\":{\"change:indices\":[{\"id\":\"2010\"}]}},\"id\":\"2011\",\"type\":\"Selection\"},{\"attributes\":{},\"id\":\"2083\",\"type\":\"UnionRenderers\"},{\"attributes\":{\"active_drag\":\"auto\",\"active_inspect\":\"auto\",\"active_multi\":null,\"active_scroll\":\"auto\",\"active_tap\":\"auto\",\"tools\":[{\"id\":\"1995\"}]},\"id\":\"1996\",\"type\":\"Toolbar\"},{\"attributes\":{},\"id\":\"2079\",\"type\":\"BasicTickFormatter\"}],\"root_ids\":[\"1976\"]},\"title\":\"Bokeh Application\",\"version\":\"2.0.0\"}};\n",
       "  var render_items = [{\"docid\":\"65a15a7f-24b6-49d9-8b45-75c350e2f63b\",\"root_ids\":[\"1976\"],\"roots\":{\"1976\":\"59d933df-204b-4303-bb37-30bc8db443fe\"}}];\n",
       "  root.Bokeh.embed.embed_items_notebook(docs_json, render_items);\n",
       "\n",
       "  }\n",
       "  if (root.Bokeh !== undefined) {\n",
       "    embed_document(root);\n",
       "  } else {\n",
       "    var attempts = 0;\n",
       "    var timer = setInterval(function(root) {\n",
       "      if (root.Bokeh !== undefined) {\n",
       "        clearInterval(timer);\n",
       "        embed_document(root);\n",
       "      } else {\n",
       "        attempts++;\n",
       "        if (attempts > 100) {\n",
       "          clearInterval(timer);\n",
       "          console.log(\"Bokeh: ERROR: Unable to run BokehJS code because BokehJS library is missing\");\n",
       "        }\n",
       "      }\n",
       "    }, 10, root)\n",
       "  }\n",
       "})(window);"
      ],
      "application/vnd.bokehjs_exec.v0+json": ""
     },
     "metadata": {
      "application/vnd.bokehjs_exec.v0+json": {
       "id": "1976"
      }
     },
     "output_type": "display_data"
    }
   ],
   "source": [
    "from random import random\n",
    "\n",
    "x = [random() for x in range(500)]\n",
    "y = [random() for y in range(500)]\n",
    "color = [\"navy\"] * len(x)\n",
    "\n",
    "s1 = ColumnDataSource(data=dict(x=x, y=y, color=color))\n",
    "p = figure(plot_width=400, plot_height=400, tools=\"lasso_select\", title=\"Select Here\")\n",
    "p.circle('x', 'y', color='color', size=8, alpha=0.4, source=s1, \n",
    "         selection_color=\"firebrick\", selection_alpha=0.4)\n",
    "\n",
    "s2 = ColumnDataSource(data=dict(xm=[0,1],ym=[0.5, 0.5]))\n",
    "p.line(x='xm', y='ym', color=\"orange\", line_width=5, alpha=0.6, source=s2)\n",
    "\n",
    "callback = CustomJS(args=dict(s1=s1, s2=s2), code=\"\"\"\n",
    "    var inds = s1.selected.indices;\n",
    "    if (inds.length == 0)\n",
    "        return;\n",
    "\n",
    "    var ym = 0\n",
    "    for (var i = 0; i < inds.length; i++) {\n",
    "        ym += s1.data.y[inds[i]]\n",
    "    }\n",
    "    \n",
    "    ym /= inds.length\n",
    "    s2.data.ym = [ym, ym]\n",
    "\n",
    "    // necessary becasue we mutated source.data in-place\n",
    "    s2.change.emit();  \n",
    "\"\"\")\n",
    "\n",
    "s1.selected.js_on_change('indices', callback)\n",
    "\n",
    "show(p)"
   ]
  },
  {
   "cell_type": "code",
   "execution_count": 14,
   "metadata": {},
   "outputs": [],
   "source": [
    "# Exercise: Experiment with selection callbacks\n",
    "\n"
   ]
  },
  {
   "cell_type": "markdown",
   "metadata": {},
   "source": [
    "## CustomJS for UI Events\n",
    "\n",
    "Bokeh also has a general events system\n",
    "\n",
    "All of the available UI events, and their properties, are listed in the Reference Guide section for [bokeh.events](https://bokeh.pydata.org/en/latest/docs/reference/events.html)"
   ]
  },
  {
   "cell_type": "code",
   "execution_count": 15,
   "metadata": {},
   "outputs": [
    {
     "data": {
      "text/html": [
       "\n",
       "\n",
       "\n",
       "\n",
       "\n",
       "\n",
       "  <div class=\"bk-root\" id=\"6bd07d03-7039-4ed9-b244-f70ebeb0129e\" data-root-id=\"2176\"></div>\n"
      ]
     },
     "metadata": {},
     "output_type": "display_data"
    },
    {
     "data": {
      "application/javascript": [
       "(function(root) {\n",
       "  function embed_document(root) {\n",
       "    \n",
       "  var docs_json = {\"5a1799d9-dd02-46ec-8c9b-68c0dc854c3c\":{\"roots\":{\"references\":[{\"attributes\":{\"children\":[{\"id\":\"2174\"},{\"id\":\"2175\"}]},\"id\":\"2176\",\"type\":\"Column\"},{\"attributes\":{},\"id\":\"2261\",\"type\":\"UnionRenderers\"},{\"attributes\":{\"data_source\":{\"id\":\"2168\"},\"glyph\":{\"id\":\"2169\"},\"hover_glyph\":null,\"muted_glyph\":null,\"nonselection_glyph\":{\"id\":\"2170\"},\"selection_glyph\":null,\"view\":{\"id\":\"2172\"}},\"id\":\"2171\",\"type\":\"GlyphRenderer\"},{\"attributes\":{},\"id\":\"2262\",\"type\":\"Selection\"},{\"attributes\":{\"fill_alpha\":{\"value\":0.6},\"fill_color\":{\"value\":\"#1f77b4\"},\"line_color\":{\"value\":null},\"radius\":{\"units\":\"data\",\"value\":1},\"x\":{\"field\":\"x\"},\"y\":{\"field\":\"y\"}},\"id\":\"2169\",\"type\":\"Circle\"},{\"attributes\":{},\"id\":\"2155\",\"type\":\"LinearScale\"},{\"attributes\":{},\"id\":\"2257\",\"type\":\"BasicTickFormatter\"},{\"attributes\":{\"args\":{\"div\":{\"id\":\"2173\"}},\"code\":\"\\ndiv.text = \\\"Selection! <p> <p>\\\" + JSON.stringify(cb_obj.geometry, undefined, 2);\\n\"},\"id\":\"2178\",\"type\":\"CustomJS\"},{\"attributes\":{\"bottom_units\":\"screen\",\"fill_alpha\":0.5,\"fill_color\":\"lightgrey\",\"left_units\":\"screen\",\"level\":\"overlay\",\"line_alpha\":1.0,\"line_color\":\"black\",\"line_dash\":[4,4],\"line_width\":2,\"render_mode\":\"css\",\"right_units\":\"screen\",\"top_units\":\"screen\"},\"id\":\"2263\",\"type\":\"BoxAnnotation\"},{\"attributes\":{},\"id\":\"2149\",\"type\":\"DataRange1d\"},{\"attributes\":{\"source\":{\"id\":\"2168\"}},\"id\":\"2172\",\"type\":\"CDSView\"},{\"attributes\":{},\"id\":\"2162\",\"type\":\"BasicTicker\"},{\"attributes\":{\"axis\":{\"id\":\"2161\"},\"dimension\":1,\"ticker\":null},\"id\":\"2164\",\"type\":\"Grid\"},{\"attributes\":{},\"id\":\"2158\",\"type\":\"BasicTicker\"},{\"attributes\":{\"fill_alpha\":{\"value\":0.1},\"fill_color\":{\"value\":\"#1f77b4\"},\"line_alpha\":{\"value\":0.1},\"line_color\":{\"value\":null},\"radius\":{\"units\":\"data\",\"value\":1},\"x\":{\"field\":\"x\"},\"y\":{\"field\":\"y\"}},\"id\":\"2170\",\"type\":\"Circle\"},{\"attributes\":{},\"id\":\"2259\",\"type\":\"BasicTickFormatter\"},{\"attributes\":{\"formatter\":{\"id\":\"2257\"},\"ticker\":{\"id\":\"2162\"}},\"id\":\"2161\",\"type\":\"LinearAxis\"},{\"attributes\":{\"overlay\":{\"id\":\"2263\"}},\"id\":\"2165\",\"type\":\"BoxSelectTool\"},{\"attributes\":{},\"id\":\"2151\",\"type\":\"DataRange1d\"},{\"attributes\":{\"data\":{\"x\":{\"__ndarray__\":\"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\",\"dtype\":\"float64\",\"shape\":[2000]},\"y\":{\"__ndarray__\":\"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\",\"dtype\":\"float64\",\"shape\":[2000]}},\"selected\":{\"id\":\"2262\"},\"selection_policy\":{\"id\":\"2261\"}},\"id\":\"2168\",\"type\":\"ColumnDataSource\"},{\"attributes\":{\"below\":[{\"id\":\"2157\"}],\"center\":[{\"id\":\"2160\"},{\"id\":\"2164\"}],\"js_event_callbacks\":{\"selectiongeometry\":[{\"id\":\"2178\"}]},\"left\":[{\"id\":\"2161\"}],\"renderers\":[{\"id\":\"2171\"}],\"title\":{\"id\":\"2255\"},\"toolbar\":{\"id\":\"2166\"},\"x_range\":{\"id\":\"2149\"},\"x_scale\":{\"id\":\"2153\"},\"y_range\":{\"id\":\"2151\"},\"y_scale\":{\"id\":\"2155\"}},\"id\":\"2148\",\"subtype\":\"Figure\",\"type\":\"Plot\"},{\"attributes\":{\"active_drag\":\"auto\",\"active_inspect\":\"auto\",\"active_multi\":null,\"active_scroll\":\"auto\",\"active_tap\":\"auto\",\"tools\":[{\"id\":\"2165\"}]},\"id\":\"2166\",\"type\":\"Toolbar\"},{\"attributes\":{\"icon\":null,\"js_event_callbacks\":{\"button_click\":[{\"id\":\"2177\"}]},\"width\":300},\"id\":\"2174\",\"type\":\"Button\"},{\"attributes\":{\"width\":400},\"id\":\"2173\",\"type\":\"Div\"},{\"attributes\":{\"children\":[{\"id\":\"2148\"},{\"id\":\"2173\"}]},\"id\":\"2175\",\"type\":\"Row\"},{\"attributes\":{},\"id\":\"2153\",\"type\":\"LinearScale\"},{\"attributes\":{\"text\":\"\"},\"id\":\"2255\",\"type\":\"Title\"},{\"attributes\":{\"args\":{\"div\":{\"id\":\"2173\"}},\"code\":\"\\ndiv.text = \\\"Button!\\\";\\n\"},\"id\":\"2177\",\"type\":\"CustomJS\"},{\"attributes\":{\"formatter\":{\"id\":\"2259\"},\"ticker\":{\"id\":\"2158\"}},\"id\":\"2157\",\"type\":\"LinearAxis\"},{\"attributes\":{\"axis\":{\"id\":\"2157\"},\"ticker\":null},\"id\":\"2160\",\"type\":\"Grid\"}],\"root_ids\":[\"2176\"]},\"title\":\"Bokeh Application\",\"version\":\"2.0.0\"}};\n",
       "  var render_items = [{\"docid\":\"5a1799d9-dd02-46ec-8c9b-68c0dc854c3c\",\"root_ids\":[\"2176\"],\"roots\":{\"2176\":\"6bd07d03-7039-4ed9-b244-f70ebeb0129e\"}}];\n",
       "  root.Bokeh.embed.embed_items_notebook(docs_json, render_items);\n",
       "\n",
       "  }\n",
       "  if (root.Bokeh !== undefined) {\n",
       "    embed_document(root);\n",
       "  } else {\n",
       "    var attempts = 0;\n",
       "    var timer = setInterval(function(root) {\n",
       "      if (root.Bokeh !== undefined) {\n",
       "        clearInterval(timer);\n",
       "        embed_document(root);\n",
       "      } else {\n",
       "        attempts++;\n",
       "        if (attempts > 100) {\n",
       "          clearInterval(timer);\n",
       "          console.log(\"Bokeh: ERROR: Unable to run BokehJS code because BokehJS library is missing\");\n",
       "        }\n",
       "      }\n",
       "    }, 10, root)\n",
       "  }\n",
       "})(window);"
      ],
      "application/vnd.bokehjs_exec.v0+json": ""
     },
     "metadata": {
      "application/vnd.bokehjs_exec.v0+json": {
       "id": "2176"
      }
     },
     "output_type": "display_data"
    }
   ],
   "source": [
    "from bokeh.plotting import figure\n",
    "from bokeh import events\n",
    "from bokeh.models import CustomJS, Div, Button\n",
    "from bokeh.layouts import column, row\n",
    "\n",
    "import numpy as np\n",
    "x = np.random.random(size=2000) * 100\n",
    "y = np.random.random(size=2000) * 100\n",
    "\n",
    "p = figure(tools=\"box_select\")\n",
    "p.scatter(x, y, radius=1, fill_alpha=0.6, line_color=None)\n",
    "\n",
    "div = Div(width=400)\n",
    "button = Button(label=\"Button\", width=300)\n",
    "layout = column(button, row(p, div))\n",
    "\n",
    "# Events with no attributes\n",
    "button.js_on_event(events.ButtonClick,  CustomJS(args=dict(div=div), code=\"\"\"\n",
    "div.text = \"Button!\";\n",
    "\"\"\")) \n",
    "\n",
    "p.js_on_event(events.SelectionGeometry, CustomJS(args=dict(div=div), code=\"\"\"\n",
    "div.text = \"Selection! <p> <p>\" + JSON.stringify(cb_obj.geometry, undefined, 2);\n",
    "\"\"\"))\n",
    "\n",
    "show(layout)"
   ]
  },
  {
   "cell_type": "code",
   "execution_count": 16,
   "metadata": {},
   "outputs": [],
   "source": [
    "# Exercise: Create a plot that responds to different events from bokeh.events\n",
    "\n"
   ]
  },
  {
   "cell_type": "markdown",
   "metadata": {},
   "source": [
    "## Additional Information\n",
    "\n",
    "There are many kinds of interactions and events that can be connected to `CustomJS` callbacks. \n",
    "\n",
    "\n",
    "* Widgets - Button, Toggle, Dropdown, TextInput, AutocompleteInput, Select, Multiselect, Slider, (DateRangeSlider), DatePicker,\n",
    "* Tools - TapTool, BoxSelectTool, HoverTool,\n",
    "* Selection - ColumnDataSource, AjaxDataSource, BlazeDataSource, ServerDataSource\n",
    "* Ranges - Range1d, DataRange1d, FactorRange\n",
    "\n",
    "\n",
    "For more complete examples the User Guide section on [JavaScript Interactions](https://bokeh.pydata.org/en/latest/docs/user_guide/interaction.html)"
   ]
  },
  {
   "cell_type": "markdown",
   "metadata": {},
   "source": [
    "# Next Section"
   ]
  },
  {
   "cell_type": "markdown",
   "metadata": {},
   "source": [
    "Click on this link to go to the next notebook: [07 - Bar and Categorical Data Plots](07%20-%20Bar%20and%20Categorical%20Data%20Plots.ipynb).\n",
    "\n",
    "To go back to the overview, click [here](00%20-%20Introduction%20and%20Setup.ipynb)."
   ]
  },
  {
   "cell_type": "code",
   "execution_count": null,
   "metadata": {},
   "outputs": [],
   "source": []
  }
 ],
 "metadata": {
  "anaconda-cloud": {},
  "kernelspec": {
   "display_name": "Python 3",
   "language": "python",
   "name": "python3"
  },
  "language_info": {
   "codemirror_mode": {
    "name": "ipython",
    "version": 3
   },
   "file_extension": ".py",
   "mimetype": "text/x-python",
   "name": "python",
   "nbconvert_exporter": "python",
   "pygments_lexer": "ipython3",
   "version": "3.8.5"
  }
 },
 "nbformat": 4,
 "nbformat_minor": 4
}
